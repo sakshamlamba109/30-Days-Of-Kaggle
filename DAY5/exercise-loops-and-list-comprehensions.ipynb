{
 "cells": [
  {
   "cell_type": "markdown",
   "id": "0389cc34",
   "metadata": {
    "papermill": {
     "duration": 0.013345,
     "end_time": "2021-08-07T17:20:36.293516",
     "exception": false,
     "start_time": "2021-08-07T17:20:36.280171",
     "status": "completed"
    },
    "tags": []
   },
   "source": [
    "**This notebook is an exercise in the [Python](https://www.kaggle.com/learn/python) course.  You can reference the tutorial at [this link](https://www.kaggle.com/colinmorris/loops-and-list-comprehensions).**\n",
    "\n",
    "---\n"
   ]
  },
  {
   "cell_type": "markdown",
   "id": "7d9a98c5",
   "metadata": {
    "papermill": {
     "duration": 0.011977,
     "end_time": "2021-08-07T17:20:36.319973",
     "exception": false,
     "start_time": "2021-08-07T17:20:36.307996",
     "status": "completed"
    },
    "tags": []
   },
   "source": [
    "With all you've learned, you can start writing much more interesting programs. See if you can solve the problems below.\n",
    "\n",
    "As always, run the setup code below before working on the questions."
   ]
  },
  {
   "cell_type": "code",
   "execution_count": 1,
   "id": "818ecd71",
   "metadata": {
    "execution": {
     "iopub.execute_input": "2021-08-07T17:20:36.354456Z",
     "iopub.status.busy": "2021-08-07T17:20:36.353809Z",
     "iopub.status.idle": "2021-08-07T17:20:36.484829Z",
     "shell.execute_reply": "2021-08-07T17:20:36.485753Z",
     "shell.execute_reply.started": "2021-08-07T16:50:34.991379Z"
    },
    "papermill": {
     "duration": 0.154079,
     "end_time": "2021-08-07T17:20:36.486259",
     "exception": false,
     "start_time": "2021-08-07T17:20:36.332180",
     "status": "completed"
    },
    "tags": []
   },
   "outputs": [
    {
     "name": "stdout",
     "output_type": "stream",
     "text": [
      "Setup complete.\n"
     ]
    }
   ],
   "source": [
    "from learntools.core import binder; binder.bind(globals())\n",
    "from learntools.python.ex5 import *\n",
    "print('Setup complete.')"
   ]
  },
  {
   "cell_type": "markdown",
   "id": "2479968c",
   "metadata": {
    "papermill": {
     "duration": 0.012574,
     "end_time": "2021-08-07T17:20:36.513210",
     "exception": false,
     "start_time": "2021-08-07T17:20:36.500636",
     "status": "completed"
    },
    "tags": []
   },
   "source": [
    "# 1.\n",
    "\n",
    "Have you ever felt debugging involved a bit of luck? The following program has a bug. Try to identify the bug and fix it."
   ]
  },
  {
   "cell_type": "code",
   "execution_count": 2,
   "id": "63952e28",
   "metadata": {
    "execution": {
     "iopub.execute_input": "2021-08-07T17:20:36.544442Z",
     "iopub.status.busy": "2021-08-07T17:20:36.543802Z",
     "iopub.status.idle": "2021-08-07T17:20:36.546912Z",
     "shell.execute_reply": "2021-08-07T17:20:36.546311Z",
     "shell.execute_reply.started": "2021-08-07T16:52:55.556833Z"
    },
    "papermill": {
     "duration": 0.021028,
     "end_time": "2021-08-07T17:20:36.547048",
     "exception": false,
     "start_time": "2021-08-07T17:20:36.526020",
     "status": "completed"
    },
    "tags": []
   },
   "outputs": [],
   "source": [
    "def has_lucky_number(nums):\n",
    "    \"\"\"Return whether the given list of numbers is lucky. A lucky list contains\n",
    "    at least one number divisible by 7.\n",
    "    \"\"\"\n",
    "    for num in nums:\n",
    "        if num % 7 == 0:\n",
    "            return True\n",
    "        \n",
    "    return False"
   ]
  },
  {
   "cell_type": "markdown",
   "id": "bfbc459d",
   "metadata": {
    "papermill": {
     "duration": 0.01225,
     "end_time": "2021-08-07T17:20:36.572141",
     "exception": false,
     "start_time": "2021-08-07T17:20:36.559891",
     "status": "completed"
    },
    "tags": []
   },
   "source": [
    "Try to identify the bug and fix it in the cell below:"
   ]
  },
  {
   "cell_type": "code",
   "execution_count": 3,
   "id": "5cbf1a2d",
   "metadata": {
    "execution": {
     "iopub.execute_input": "2021-08-07T17:20:36.600333Z",
     "iopub.status.busy": "2021-08-07T17:20:36.599669Z",
     "iopub.status.idle": "2021-08-07T17:20:36.608725Z",
     "shell.execute_reply": "2021-08-07T17:20:36.609185Z",
     "shell.execute_reply.started": "2021-08-07T16:53:05.788890Z"
    },
    "papermill": {
     "duration": 0.024541,
     "end_time": "2021-08-07T17:20:36.609347",
     "exception": false,
     "start_time": "2021-08-07T17:20:36.584806",
     "status": "completed"
    },
    "tags": []
   },
   "outputs": [
    {
     "data": {
      "application/javascript": [
       "parent.postMessage({\"jupyterEvent\": \"custom.exercise_interaction\", \"data\": {\"outcomeType\": 1, \"valueTowardsCompletion\": 0.25, \"interactionType\": 1, \"questionType\": 2, \"questionId\": \"1_EarlyExitDebugging\", \"learnToolsVersion\": \"0.3.4\", \"failureMessage\": \"\", \"exceptionClass\": \"\", \"trace\": \"\"}}, \"*\")"
      ],
      "text/plain": [
       "<IPython.core.display.Javascript object>"
      ]
     },
     "metadata": {},
     "output_type": "display_data"
    },
    {
     "data": {
      "text/markdown": [
       "<span style=\"color:#33cc33\">Correct:</span> \n",
       "\n",
       "Remember that `return` causes a function to exit immediately. So our original implementation always ran for just one iteration. We can only return `False` if we've looked at every element of the list (and confirmed that none of them are lucky). Though we can return early if the answer is `True`:\n",
       "\n",
       "```python\n",
       "def has_lucky_number(nums):\n",
       "    for num in nums:\n",
       "        if num % 7 == 0:\n",
       "            return True\n",
       "    # We've exhausted the list without finding a lucky number\n",
       "    return False\n",
       "```\n",
       "\n",
       "Here's a one-line version using a list comprehension with Python's `any` function (you can read about what it does by calling `help(any)`):\n",
       "\n",
       "```python\n",
       "def has_lucky_number(nums):\n",
       "    return any([num % 7 == 0 for num in nums])\n",
       "```\n"
      ],
      "text/plain": [
       "Correct: \n",
       "\n",
       "Remember that `return` causes a function to exit immediately. So our original implementation always ran for just one iteration. We can only return `False` if we've looked at every element of the list (and confirmed that none of them are lucky). Though we can return early if the answer is `True`:\n",
       "\n",
       "```python\n",
       "def has_lucky_number(nums):\n",
       "    for num in nums:\n",
       "        if num % 7 == 0:\n",
       "            return True\n",
       "    # We've exhausted the list without finding a lucky number\n",
       "    return False\n",
       "```\n",
       "\n",
       "Here's a one-line version using a list comprehension with Python's `any` function (you can read about what it does by calling `help(any)`):\n",
       "\n",
       "```python\n",
       "def has_lucky_number(nums):\n",
       "    return any([num % 7 == 0 for num in nums])\n",
       "```"
      ]
     },
     "metadata": {},
     "output_type": "display_data"
    }
   ],
   "source": [
    "def has_lucky_number(nums):\n",
    "    \"\"\"Return whether the given list of numbers is lucky. A lucky list contains\n",
    "    at least one number divisible by 7.\n",
    "    \"\"\"\n",
    "    for num in nums:\n",
    "        if num % 7 == 0:\n",
    "            return True\n",
    "        \n",
    "    return False\n",
    "\n",
    "# Check your answer\n",
    "q1.check()"
   ]
  },
  {
   "cell_type": "code",
   "execution_count": 4,
   "id": "5f9e8bc7",
   "metadata": {
    "execution": {
     "iopub.execute_input": "2021-08-07T17:20:36.640135Z",
     "iopub.status.busy": "2021-08-07T17:20:36.639582Z",
     "iopub.status.idle": "2021-08-07T17:20:36.642867Z",
     "shell.execute_reply": "2021-08-07T17:20:36.643345Z",
     "shell.execute_reply.started": "2021-08-07T16:53:11.947606Z"
    },
    "papermill": {
     "duration": 0.019568,
     "end_time": "2021-08-07T17:20:36.643542",
     "exception": false,
     "start_time": "2021-08-07T17:20:36.623974",
     "status": "completed"
    },
    "tags": []
   },
   "outputs": [],
   "source": [
    "#q1.hint()\n",
    "#q1.solution()"
   ]
  },
  {
   "cell_type": "markdown",
   "id": "a982e4e8",
   "metadata": {
    "papermill": {
     "duration": 0.013758,
     "end_time": "2021-08-07T17:20:36.671192",
     "exception": false,
     "start_time": "2021-08-07T17:20:36.657434",
     "status": "completed"
    },
    "tags": []
   },
   "source": [
    "# 2.\n",
    "Look at the Python expression below. What do you think we'll get when we run it? When you've made your prediction, uncomment the code and run the cell to see if you were right."
   ]
  },
  {
   "cell_type": "code",
   "execution_count": 5,
   "id": "2a8af80e",
   "metadata": {
    "execution": {
     "iopub.execute_input": "2021-08-07T17:20:36.701504Z",
     "iopub.status.busy": "2021-08-07T17:20:36.700882Z",
     "iopub.status.idle": "2021-08-07T17:20:36.756733Z",
     "shell.execute_reply": "2021-08-07T17:20:36.755471Z",
     "shell.execute_reply.started": "2021-08-07T16:54:21.467632Z"
    },
    "papermill": {
     "duration": 0.072087,
     "end_time": "2021-08-07T17:20:36.757076",
     "exception": true,
     "start_time": "2021-08-07T17:20:36.684989",
     "status": "failed"
    },
    "tags": []
   },
   "outputs": [
    {
     "ename": "TypeError",
     "evalue": "'>' not supported between instances of 'list' and 'int'",
     "output_type": "error",
     "traceback": [
      "\u001b[0;31m---------------------------------------------------------------------------\u001b[0m",
      "\u001b[0;31mTypeError\u001b[0m                                 Traceback (most recent call last)",
      "\u001b[0;32m<ipython-input-5-6f064fcfe2b9>\u001b[0m in \u001b[0;36m<module>\u001b[0;34m\u001b[0m\n\u001b[0;32m----> 1\u001b[0;31m \u001b[0;34m[\u001b[0m\u001b[0;36m1\u001b[0m\u001b[0;34m,\u001b[0m \u001b[0;36m2\u001b[0m\u001b[0;34m,\u001b[0m \u001b[0;36m3\u001b[0m\u001b[0;34m,\u001b[0m \u001b[0;36m4\u001b[0m\u001b[0;34m]\u001b[0m \u001b[0;34m>\u001b[0m \u001b[0;36m2\u001b[0m\u001b[0;34m\u001b[0m\u001b[0;34m\u001b[0m\u001b[0m\n\u001b[0m",
      "\u001b[0;31mTypeError\u001b[0m: '>' not supported between instances of 'list' and 'int'"
     ]
    }
   ],
   "source": [
    "[1, 2, 3, 4] > 2"
   ]
  },
  {
   "cell_type": "markdown",
   "id": "9d25cf38",
   "metadata": {
    "papermill": {
     "duration": null,
     "end_time": null,
     "exception": null,
     "start_time": null,
     "status": "pending"
    },
    "tags": []
   },
   "source": [
    "R and Python have some libraries (like numpy and pandas) compare each element of the list to 2 (i.e. do an 'element-wise' comparison) and give us a list of booleans like `[False, False, True, True]`. \n",
    "\n",
    "Implement a function that reproduces this behaviour, returning a list of booleans corresponding to whether the corresponding element is greater than n."
   ]
  },
  {
   "cell_type": "code",
   "execution_count": null,
   "id": "d2b9eb12",
   "metadata": {
    "execution": {
     "iopub.execute_input": "2021-08-07T16:59:33.364720Z",
     "iopub.status.busy": "2021-08-07T16:59:33.364100Z",
     "iopub.status.idle": "2021-08-07T16:59:33.374167Z",
     "shell.execute_reply": "2021-08-07T16:59:33.373182Z",
     "shell.execute_reply.started": "2021-08-07T16:59:33.364686Z"
    },
    "papermill": {
     "duration": null,
     "end_time": null,
     "exception": null,
     "start_time": null,
     "status": "pending"
    },
    "tags": []
   },
   "outputs": [],
   "source": [
    "def elementwise_greater_than(L, thresh):\n",
    "    \"\"\"Return a list with the same length as L, where the value at index i is \n",
    "    True if L[i] is greater than thresh, and False otherwise.\n",
    "    \n",
    "    >>> elementwise_greater_than([1, 2, 3, 4], 2)\n",
    "    [False, False, True, True]\n",
    "    \"\"\"\n",
    "    a=[]\n",
    "    for temp in L:\n",
    "        if temp>thresh:\n",
    "             a.append(True)\n",
    "        else:\n",
    "             a.append(False)\n",
    "    return a            \n",
    "\n",
    "# Check your answer\n",
    "q2.check()"
   ]
  },
  {
   "cell_type": "code",
   "execution_count": null,
   "id": "5d17be2f",
   "metadata": {
    "execution": {
     "iopub.execute_input": "2021-08-07T16:59:41.938489Z",
     "iopub.status.busy": "2021-08-07T16:59:41.938127Z",
     "iopub.status.idle": "2021-08-07T16:59:41.941668Z",
     "shell.execute_reply": "2021-08-07T16:59:41.940897Z",
     "shell.execute_reply.started": "2021-08-07T16:59:41.938459Z"
    },
    "papermill": {
     "duration": null,
     "end_time": null,
     "exception": null,
     "start_time": null,
     "status": "pending"
    },
    "tags": []
   },
   "outputs": [],
   "source": [
    "#q2.solution()"
   ]
  },
  {
   "cell_type": "markdown",
   "id": "e84e6aa0",
   "metadata": {
    "papermill": {
     "duration": null,
     "end_time": null,
     "exception": null,
     "start_time": null,
     "status": "pending"
    },
    "tags": []
   },
   "source": [
    "# 3.\n",
    "\n",
    "Complete the body of the function below according to its docstring."
   ]
  },
  {
   "cell_type": "code",
   "execution_count": null,
   "id": "6390b978",
   "metadata": {
    "execution": {
     "iopub.execute_input": "2021-08-07T17:02:08.679212Z",
     "iopub.status.busy": "2021-08-07T17:02:08.678828Z",
     "iopub.status.idle": "2021-08-07T17:02:08.688528Z",
     "shell.execute_reply": "2021-08-07T17:02:08.687591Z",
     "shell.execute_reply.started": "2021-08-07T17:02:08.679178Z"
    },
    "papermill": {
     "duration": null,
     "end_time": null,
     "exception": null,
     "start_time": null,
     "status": "pending"
    },
    "tags": []
   },
   "outputs": [],
   "source": [
    "def menu_is_boring(meals):\n",
    "    \"\"\"Given a list of meals served over some period of time, return True if the\n",
    "    same meal has ever been served two days in a row, and False otherwise.\n",
    "    \"\"\"\n",
    "    for temp in range(len(meals)-1):\n",
    "        if meals[temp] == meals[temp+1]:\n",
    "            return True\n",
    "    return False\n",
    "\n",
    "\n",
    "# Check your answer\n",
    "q3.check()"
   ]
  },
  {
   "cell_type": "code",
   "execution_count": null,
   "id": "76a39827",
   "metadata": {
    "execution": {
     "iopub.execute_input": "2021-08-07T17:02:12.717174Z",
     "iopub.status.busy": "2021-08-07T17:02:12.716613Z",
     "iopub.status.idle": "2021-08-07T17:02:12.721586Z",
     "shell.execute_reply": "2021-08-07T17:02:12.720530Z",
     "shell.execute_reply.started": "2021-08-07T17:02:12.717121Z"
    },
    "papermill": {
     "duration": null,
     "end_time": null,
     "exception": null,
     "start_time": null,
     "status": "pending"
    },
    "tags": []
   },
   "outputs": [],
   "source": [
    "#q3.hint()\n",
    "#q3.solution()"
   ]
  },
  {
   "cell_type": "markdown",
   "id": "c37610cd",
   "metadata": {
    "papermill": {
     "duration": null,
     "end_time": null,
     "exception": null,
     "start_time": null,
     "status": "pending"
    },
    "tags": []
   },
   "source": [
    "# 4. <span title=\"A bit spicy\" style=\"color: darkgreen \">🌶️</span>\n",
    "\n",
    "Next to the Blackjack table, the Python Challenge Casino has a slot machine. You can get a result from the slot machine by calling `play_slot_machine()`. The number it returns is your winnings in dollars. Usually it returns 0.  But sometimes you'll get lucky and get a big payday. Try running it below:"
   ]
  },
  {
   "cell_type": "code",
   "execution_count": null,
   "id": "661deaac",
   "metadata": {
    "execution": {
     "iopub.execute_input": "2021-08-07T17:05:32.941199Z",
     "iopub.status.busy": "2021-08-07T17:05:32.940832Z",
     "iopub.status.idle": "2021-08-07T17:05:32.946521Z",
     "shell.execute_reply": "2021-08-07T17:05:32.945870Z",
     "shell.execute_reply.started": "2021-08-07T17:05:32.941170Z"
    },
    "papermill": {
     "duration": null,
     "end_time": null,
     "exception": null,
     "start_time": null,
     "status": "pending"
    },
    "tags": []
   },
   "outputs": [],
   "source": [
    "play_slot_machine()"
   ]
  },
  {
   "cell_type": "markdown",
   "id": "fed97638",
   "metadata": {
    "papermill": {
     "duration": null,
     "end_time": null,
     "exception": null,
     "start_time": null,
     "status": "pending"
    },
    "tags": []
   },
   "source": [
    "By the way, did we mention that each play costs $1? Don't worry, we'll send you the bill later.\n",
    "\n",
    "On average, how much money can you expect to gain (or lose) every time you play the machine?  The casino keeps it a secret, but you can estimate the average value of each pull using a technique called the **Monte Carlo method**. To estimate the average outcome, we simulate the scenario many times, and return the average result.\n",
    "\n",
    "Complete the following function to calculate the average value per play of the slot machine."
   ]
  },
  {
   "cell_type": "code",
   "execution_count": null,
   "id": "903be3a9",
   "metadata": {
    "execution": {
     "iopub.execute_input": "2021-08-07T17:19:21.742789Z",
     "iopub.status.busy": "2021-08-07T17:19:21.742426Z",
     "iopub.status.idle": "2021-08-07T17:19:21.750902Z",
     "shell.execute_reply": "2021-08-07T17:19:21.749841Z",
     "shell.execute_reply.started": "2021-08-07T17:19:21.742759Z"
    },
    "papermill": {
     "duration": null,
     "end_time": null,
     "exception": null,
     "start_time": null,
     "status": "pending"
    },
    "tags": []
   },
   "outputs": [],
   "source": [
    "def estimate_average_slot_payout(n_runs):\n",
    "    \"\"\"Run the slot machine n_runs times and return the average net profit per run.\n",
    "    Example calls (note that return value is nondeterministic!):\n",
    "    >>> estimate_average_slot_payout(1)\n",
    "    -1\n",
    "    >>> estimate_average_slot_payout(1)\n",
    "    0.5\n",
    "    \"\"\"\n",
    "    total=0\n",
    "    for i in range (n_runs):\n",
    "        total+=play_slot_machine()\n",
    "    total=total-n_runs\n",
    "    return total/n_runs\n",
    "        "
   ]
  },
  {
   "cell_type": "markdown",
   "id": "f7023f25",
   "metadata": {
    "papermill": {
     "duration": null,
     "end_time": null,
     "exception": null,
     "start_time": null,
     "status": "pending"
    },
    "tags": []
   },
   "source": [
    "When you think you know the expected value per spin, run the code cell below to view the solution and get credit for answering the question."
   ]
  },
  {
   "cell_type": "code",
   "execution_count": null,
   "id": "a86df818",
   "metadata": {
    "execution": {
     "iopub.execute_input": "2021-08-07T17:19:32.439043Z",
     "iopub.status.busy": "2021-08-07T17:19:32.438688Z",
     "iopub.status.idle": "2021-08-07T17:19:32.443046Z",
     "shell.execute_reply": "2021-08-07T17:19:32.441904Z",
     "shell.execute_reply.started": "2021-08-07T17:19:32.439013Z"
    },
    "papermill": {
     "duration": null,
     "end_time": null,
     "exception": null,
     "start_time": null,
     "status": "pending"
    },
    "tags": []
   },
   "outputs": [],
   "source": [
    "# Check your answer (Run this code cell to receive credit!)\n",
    "#q4.solution()"
   ]
  },
  {
   "cell_type": "markdown",
   "id": "44d2eb88",
   "metadata": {
    "papermill": {
     "duration": null,
     "end_time": null,
     "exception": null,
     "start_time": null,
     "status": "pending"
    },
    "tags": []
   },
   "source": [
    "# Keep Going\n",
    "\n",
    "Many programmers report that dictionaries are their favorite data structure. You'll get to **[learn about them](https://www.kaggle.com/colinmorris/strings-and-dictionaries)** (as well as strings) in the next lesson."
   ]
  },
  {
   "cell_type": "markdown",
   "id": "0d0de771",
   "metadata": {
    "papermill": {
     "duration": null,
     "end_time": null,
     "exception": null,
     "start_time": null,
     "status": "pending"
    },
    "tags": []
   },
   "source": [
    "---\n",
    "\n",
    "\n",
    "\n",
    "\n",
    "*Have questions or comments? Visit the [Learn Discussion forum](https://www.kaggle.com/learn-forum/161283) to chat with other Learners.*"
   ]
  }
 ],
 "metadata": {
  "kernelspec": {
   "display_name": "Python 3",
   "language": "python",
   "name": "python3"
  },
  "language_info": {
   "codemirror_mode": {
    "name": "ipython",
    "version": 3
   },
   "file_extension": ".py",
   "mimetype": "text/x-python",
   "name": "python",
   "nbconvert_exporter": "python",
   "pygments_lexer": "ipython3",
   "version": "3.7.10"
  },
  "papermill": {
   "default_parameters": {},
   "duration": 8.821878,
   "end_time": "2021-08-07T17:20:37.380887",
   "environment_variables": {},
   "exception": true,
   "input_path": "__notebook__.ipynb",
   "output_path": "__notebook__.ipynb",
   "parameters": {},
   "start_time": "2021-08-07T17:20:28.559009",
   "version": "2.3.3"
  }
 },
 "nbformat": 4,
 "nbformat_minor": 5
}
