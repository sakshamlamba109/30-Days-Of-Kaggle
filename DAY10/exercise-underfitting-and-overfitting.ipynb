{
 "cells": [
  {
   "cell_type": "markdown",
   "id": "724406a7",
   "metadata": {
    "papermill": {
     "duration": 0.008057,
     "end_time": "2021-08-13T03:43:47.930199",
     "exception": false,
     "start_time": "2021-08-13T03:43:47.922142",
     "status": "completed"
    },
    "tags": []
   },
   "source": [
    "**This notebook is an exercise in the [Introduction to Machine Learning](https://www.kaggle.com/learn/intro-to-machine-learning) course.  You can reference the tutorial at [this link](https://www.kaggle.com/dansbecker/underfitting-and-overfitting).**\n",
    "\n",
    "---\n"
   ]
  },
  {
   "cell_type": "markdown",
   "id": "0787df0c",
   "metadata": {
    "papermill": {
     "duration": 0.006712,
     "end_time": "2021-08-13T03:43:47.944506",
     "exception": false,
     "start_time": "2021-08-13T03:43:47.937794",
     "status": "completed"
    },
    "tags": []
   },
   "source": [
    "## Recap\n",
    "You've built your first model, and now it's time to optimize the size of the tree to make better predictions. Run this cell to set up your coding environment where the previous step left off."
   ]
  },
  {
   "cell_type": "code",
   "execution_count": 1,
   "id": "185bc4d2",
   "metadata": {
    "execution": {
     "iopub.execute_input": "2021-08-13T03:43:47.970348Z",
     "iopub.status.busy": "2021-08-13T03:43:47.969775Z",
     "iopub.status.idle": "2021-08-13T03:43:49.207963Z",
     "shell.execute_reply": "2021-08-13T03:43:49.206994Z",
     "shell.execute_reply.started": "2021-08-13T03:28:05.555216Z"
    },
    "papermill": {
     "duration": 1.256636,
     "end_time": "2021-08-13T03:43:49.208191",
     "exception": false,
     "start_time": "2021-08-13T03:43:47.951555",
     "status": "completed"
    },
    "tags": []
   },
   "outputs": [
    {
     "name": "stdout",
     "output_type": "stream",
     "text": [
      "Validation MAE: 29,653\n",
      "\n",
      "Setup complete\n"
     ]
    }
   ],
   "source": [
    "# Code you have previously used to load data\n",
    "import pandas as pd\n",
    "from sklearn.metrics import mean_absolute_error\n",
    "from sklearn.model_selection import train_test_split\n",
    "from sklearn.tree import DecisionTreeRegressor\n",
    "\n",
    "\n",
    "# Path of the file to read\n",
    "iowa_file_path = '../input/home-data-for-ml-course/train.csv'\n",
    "\n",
    "home_data = pd.read_csv(iowa_file_path)\n",
    "# Create target object and call it y\n",
    "y = home_data.SalePrice\n",
    "# Create X\n",
    "features = ['LotArea', 'YearBuilt', '1stFlrSF', '2ndFlrSF', 'FullBath', 'BedroomAbvGr', 'TotRmsAbvGrd']\n",
    "X = home_data[features]\n",
    "\n",
    "# Split into validation and training data\n",
    "train_X, val_X, train_y, val_y = train_test_split(X, y, random_state=1)\n",
    "\n",
    "# Specify Model\n",
    "iowa_model = DecisionTreeRegressor(random_state=1)\n",
    "# Fit Model\n",
    "iowa_model.fit(train_X, train_y)\n",
    "\n",
    "# Make validation predictions and calculate mean absolute error\n",
    "val_predictions = iowa_model.predict(val_X)\n",
    "val_mae = mean_absolute_error(val_predictions, val_y)\n",
    "print(\"Validation MAE: {:,.0f}\".format(val_mae))\n",
    "\n",
    "# Set up code checking\n",
    "from learntools.core import binder\n",
    "binder.bind(globals())\n",
    "from learntools.machine_learning.ex5 import *\n",
    "print(\"\\nSetup complete\")"
   ]
  },
  {
   "cell_type": "markdown",
   "id": "5cc7a414",
   "metadata": {
    "papermill": {
     "duration": 0.007291,
     "end_time": "2021-08-13T03:43:49.225746",
     "exception": false,
     "start_time": "2021-08-13T03:43:49.218455",
     "status": "completed"
    },
    "tags": []
   },
   "source": [
    "# Exercises\n",
    "You could write the function `get_mae` yourself. For now, we'll supply it. This is the same function you read about in the previous lesson. Just run the cell below."
   ]
  },
  {
   "cell_type": "code",
   "execution_count": 2,
   "id": "108478b1",
   "metadata": {
    "execution": {
     "iopub.execute_input": "2021-08-13T03:43:49.247978Z",
     "iopub.status.busy": "2021-08-13T03:43:49.247285Z",
     "iopub.status.idle": "2021-08-13T03:43:49.250477Z",
     "shell.execute_reply": "2021-08-13T03:43:49.249982Z",
     "shell.execute_reply.started": "2021-08-13T03:28:06.808281Z"
    },
    "papermill": {
     "duration": 0.017259,
     "end_time": "2021-08-13T03:43:49.250620",
     "exception": false,
     "start_time": "2021-08-13T03:43:49.233361",
     "status": "completed"
    },
    "tags": []
   },
   "outputs": [],
   "source": [
    "def get_mae(max_leaf_nodes, train_X, val_X, train_y, val_y):\n",
    "    model = DecisionTreeRegressor(max_leaf_nodes=max_leaf_nodes, random_state=0)\n",
    "    model.fit(train_X, train_y)\n",
    "    preds_val = model.predict(val_X)\n",
    "    mae = mean_absolute_error(val_y, preds_val)\n",
    "    return(mae)"
   ]
  },
  {
   "cell_type": "markdown",
   "id": "41e31f91",
   "metadata": {
    "papermill": {
     "duration": 0.007421,
     "end_time": "2021-08-13T03:43:49.265946",
     "exception": false,
     "start_time": "2021-08-13T03:43:49.258525",
     "status": "completed"
    },
    "tags": []
   },
   "source": [
    "## Step 1: Compare Different Tree Sizes\n",
    "Write a loop that tries the following values for *max_leaf_nodes* from a set of possible values.\n",
    "\n",
    "Call the *get_mae* function on each value of max_leaf_nodes. Store the output in some way that allows you to select the value of `max_leaf_nodes` that gives the most accurate model on your data."
   ]
  },
  {
   "cell_type": "code",
   "execution_count": 3,
   "id": "ba46170f",
   "metadata": {
    "execution": {
     "iopub.execute_input": "2021-08-13T03:43:49.291427Z",
     "iopub.status.busy": "2021-08-13T03:43:49.290781Z",
     "iopub.status.idle": "2021-08-13T03:43:49.338368Z",
     "shell.execute_reply": "2021-08-13T03:43:49.337813Z",
     "shell.execute_reply.started": "2021-08-13T03:37:40.583090Z"
    },
    "papermill": {
     "duration": 0.06442,
     "end_time": "2021-08-13T03:43:49.338505",
     "exception": false,
     "start_time": "2021-08-13T03:43:49.274085",
     "status": "completed"
    },
    "tags": []
   },
   "outputs": [
    {
     "data": {
      "application/javascript": [
       "parent.postMessage({\"jupyterEvent\": \"custom.exercise_interaction\", \"data\": {\"outcomeType\": 1, \"valueTowardsCompletion\": 0.5, \"interactionType\": 1, \"questionType\": 1, \"questionId\": \"1_BestTreeSize\", \"learnToolsVersion\": \"0.3.4\", \"failureMessage\": \"\", \"exceptionClass\": \"\", \"trace\": \"\"}}, \"*\")"
      ],
      "text/plain": [
       "<IPython.core.display.Javascript object>"
      ]
     },
     "metadata": {},
     "output_type": "display_data"
    },
    {
     "data": {
      "text/markdown": [
       "<span style=\"color:#33cc33\">Correct</span>"
      ],
      "text/plain": [
       "Correct"
      ]
     },
     "metadata": {},
     "output_type": "display_data"
    }
   ],
   "source": [
    "candidate_max_leaf_nodes = [5, 25, 50, 100, 250, 500]\n",
    "# Write loop to find the ideal tree size from candidate_max_leaf_nodes\n",
    "scores = {leaf_size: get_mae(leaf_size, train_X, val_X, train_y, val_y) for leaf_size in candidate_max_leaf_nodes}\n",
    "best_tree_size = min(scores, key=scores.get)\n",
    "# Store the best value of max_leaf_nodes (it will be either 5, 25, 50, 100, 250 or 500)\n",
    "\n",
    "\n",
    "# Check your answer\n",
    "step_1.check()"
   ]
  },
  {
   "cell_type": "code",
   "execution_count": 4,
   "id": "d66ad500",
   "metadata": {
    "execution": {
     "iopub.execute_input": "2021-08-13T03:43:49.360014Z",
     "iopub.status.busy": "2021-08-13T03:43:49.359394Z",
     "iopub.status.idle": "2021-08-13T03:43:49.362486Z",
     "shell.execute_reply": "2021-08-13T03:43:49.361907Z",
     "shell.execute_reply.started": "2021-08-13T03:37:44.072802Z"
    },
    "papermill": {
     "duration": 0.015142,
     "end_time": "2021-08-13T03:43:49.362635",
     "exception": false,
     "start_time": "2021-08-13T03:43:49.347493",
     "status": "completed"
    },
    "tags": []
   },
   "outputs": [],
   "source": [
    "# The lines below will show you a hint or the solution.\n",
    "# step_1.hint() \n",
    "\n",
    "#step_1.solution()"
   ]
  },
  {
   "cell_type": "markdown",
   "id": "0f109e8f",
   "metadata": {
    "papermill": {
     "duration": 0.008233,
     "end_time": "2021-08-13T03:43:49.379353",
     "exception": false,
     "start_time": "2021-08-13T03:43:49.371120",
     "status": "completed"
    },
    "tags": []
   },
   "source": [
    "## Step 2: Fit Model Using All Data\n",
    "You know the best tree size. If you were going to deploy this model in practice, you would make it even more accurate by using all of the data and keeping that tree size.  That is, you don't need to hold out the validation data now that you've made all your modeling decisions."
   ]
  },
  {
   "cell_type": "code",
   "execution_count": 5,
   "id": "9065e7d2",
   "metadata": {
    "execution": {
     "iopub.execute_input": "2021-08-13T03:43:49.402857Z",
     "iopub.status.busy": "2021-08-13T03:43:49.402242Z",
     "iopub.status.idle": "2021-08-13T03:43:49.414907Z",
     "shell.execute_reply": "2021-08-13T03:43:49.414300Z",
     "shell.execute_reply.started": "2021-08-13T03:43:13.081900Z"
    },
    "papermill": {
     "duration": 0.027289,
     "end_time": "2021-08-13T03:43:49.415044",
     "exception": false,
     "start_time": "2021-08-13T03:43:49.387755",
     "status": "completed"
    },
    "tags": []
   },
   "outputs": [
    {
     "data": {
      "application/javascript": [
       "parent.postMessage({\"jupyterEvent\": \"custom.exercise_interaction\", \"data\": {\"outcomeType\": 1, \"valueTowardsCompletion\": 0.5, \"interactionType\": 1, \"questionType\": 2, \"questionId\": \"2_FitModelWithAllData\", \"learnToolsVersion\": \"0.3.4\", \"failureMessage\": \"\", \"exceptionClass\": \"\", \"trace\": \"\"}}, \"*\")"
      ],
      "text/plain": [
       "<IPython.core.display.Javascript object>"
      ]
     },
     "metadata": {},
     "output_type": "display_data"
    },
    {
     "data": {
      "text/markdown": [
       "<span style=\"color:#33cc33\">Correct</span>"
      ],
      "text/plain": [
       "Correct"
      ]
     },
     "metadata": {},
     "output_type": "display_data"
    }
   ],
   "source": [
    "# Fit the model with best_tree_size. Fill in argument to make optimal size\n",
    "final_model = DecisionTreeRegressor(max_leaf_nodes=best_tree_size, random_state=1)\n",
    "\n",
    "# fit the final model\n",
    "final_model.fit(X, y)\n",
    "\n",
    "# Check your answer\n",
    "step_2.check()"
   ]
  },
  {
   "cell_type": "code",
   "execution_count": 6,
   "id": "2dadf69c",
   "metadata": {
    "execution": {
     "iopub.execute_input": "2021-08-13T03:43:49.437039Z",
     "iopub.status.busy": "2021-08-13T03:43:49.436456Z",
     "iopub.status.idle": "2021-08-13T03:43:49.439265Z",
     "shell.execute_reply": "2021-08-13T03:43:49.438841Z",
     "shell.execute_reply.started": "2021-08-13T03:43:18.978919Z"
    },
    "papermill": {
     "duration": 0.015202,
     "end_time": "2021-08-13T03:43:49.439392",
     "exception": false,
     "start_time": "2021-08-13T03:43:49.424190",
     "status": "completed"
    },
    "tags": []
   },
   "outputs": [],
   "source": [
    "# step_2.hint()\n",
    "#step_2.solution()"
   ]
  },
  {
   "cell_type": "markdown",
   "id": "70f7d0bc",
   "metadata": {
    "papermill": {
     "duration": 0.009151,
     "end_time": "2021-08-13T03:43:49.458018",
     "exception": false,
     "start_time": "2021-08-13T03:43:49.448867",
     "status": "completed"
    },
    "tags": []
   },
   "source": [
    "You've tuned this model and improved your results. But we are still using Decision Tree models, which are not very sophisticated by modern machine learning standards. In the next step you will learn to use Random Forests to improve your models even more.\n",
    "\n",
    "# Keep Going\n",
    "\n",
    "You are ready for **[Random Forests](https://www.kaggle.com/dansbecker/random-forests).**\n"
   ]
  },
  {
   "cell_type": "markdown",
   "id": "8ad42b78",
   "metadata": {
    "papermill": {
     "duration": 0.009035,
     "end_time": "2021-08-13T03:43:49.476415",
     "exception": false,
     "start_time": "2021-08-13T03:43:49.467380",
     "status": "completed"
    },
    "tags": []
   },
   "source": [
    "---\n",
    "\n",
    "\n",
    "\n",
    "\n",
    "*Have questions or comments? Visit the [Learn Discussion forum](https://www.kaggle.com/learn-forum/161285) to chat with other Learners.*"
   ]
  }
 ],
 "metadata": {
  "kernelspec": {
   "display_name": "Python 3",
   "language": "python",
   "name": "python3"
  },
  "language_info": {
   "codemirror_mode": {
    "name": "ipython",
    "version": 3
   },
   "file_extension": ".py",
   "mimetype": "text/x-python",
   "name": "python",
   "nbconvert_exporter": "python",
   "pygments_lexer": "ipython3",
   "version": "3.7.10"
  },
  "papermill": {
   "default_parameters": {},
   "duration": 9.761325,
   "end_time": "2021-08-13T03:43:50.811868",
   "environment_variables": {},
   "exception": null,
   "input_path": "__notebook__.ipynb",
   "output_path": "__notebook__.ipynb",
   "parameters": {},
   "start_time": "2021-08-13T03:43:41.050543",
   "version": "2.3.3"
  }
 },
 "nbformat": 4,
 "nbformat_minor": 5
}
