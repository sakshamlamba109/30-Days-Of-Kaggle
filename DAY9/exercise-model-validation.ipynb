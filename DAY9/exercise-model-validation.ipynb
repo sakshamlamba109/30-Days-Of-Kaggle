{
 "cells": [
  {
   "cell_type": "markdown",
   "id": "8f72d48a",
   "metadata": {
    "papermill": {
     "duration": 0.010874,
     "end_time": "2021-08-12T06:02:15.925472",
     "exception": false,
     "start_time": "2021-08-12T06:02:15.914598",
     "status": "completed"
    },
    "tags": []
   },
   "source": [
    "**This notebook is an exercise in the [Introduction to Machine Learning](https://www.kaggle.com/learn/intro-to-machine-learning) course.  You can reference the tutorial at [this link](https://www.kaggle.com/dansbecker/model-validation).**\n",
    "\n",
    "---\n"
   ]
  },
  {
   "cell_type": "markdown",
   "id": "04f915fc",
   "metadata": {
    "papermill": {
     "duration": 0.009434,
     "end_time": "2021-08-12T06:02:15.945175",
     "exception": false,
     "start_time": "2021-08-12T06:02:15.935741",
     "status": "completed"
    },
    "tags": []
   },
   "source": [
    "## Recap\n",
    "You've built a model. In this exercise you will test how good your model is.\n",
    "\n",
    "Run the cell below to set up your coding environment where the previous exercise left off."
   ]
  },
  {
   "cell_type": "code",
   "execution_count": 1,
   "id": "4ef8548e",
   "metadata": {
    "execution": {
     "iopub.execute_input": "2021-08-12T06:02:15.978210Z",
     "iopub.status.busy": "2021-08-12T06:02:15.973784Z",
     "iopub.status.idle": "2021-08-12T06:02:17.185926Z",
     "shell.execute_reply": "2021-08-12T06:02:17.185179Z",
     "shell.execute_reply.started": "2021-08-12T05:51:39.042807Z"
    },
    "papermill": {
     "duration": 1.231099,
     "end_time": "2021-08-12T06:02:17.186084",
     "exception": false,
     "start_time": "2021-08-12T06:02:15.954985",
     "status": "completed"
    },
    "tags": []
   },
   "outputs": [
    {
     "name": "stdout",
     "output_type": "stream",
     "text": [
      "First in-sample predictions: [208500. 181500. 223500. 140000. 250000.]\n",
      "Actual target values for those homes: [208500, 181500, 223500, 140000, 250000]\n",
      "Setup Complete\n"
     ]
    }
   ],
   "source": [
    "# Code you have previously used to load data\n",
    "import pandas as pd\n",
    "from sklearn.tree import DecisionTreeRegressor\n",
    "\n",
    "# Path of the file to read\n",
    "iowa_file_path = '../input/home-data-for-ml-course/train.csv'\n",
    "\n",
    "home_data = pd.read_csv(iowa_file_path)\n",
    "y = home_data.SalePrice\n",
    "feature_columns = ['LotArea', 'YearBuilt', '1stFlrSF', '2ndFlrSF', 'FullBath', 'BedroomAbvGr', 'TotRmsAbvGrd']\n",
    "X = home_data[feature_columns]\n",
    "\n",
    "# Specify Model\n",
    "iowa_model = DecisionTreeRegressor()\n",
    "# Fit Model\n",
    "iowa_model.fit(X, y)\n",
    "\n",
    "print(\"First in-sample predictions:\", iowa_model.predict(X.head()))\n",
    "print(\"Actual target values for those homes:\", y.head().tolist())\n",
    "\n",
    "# Set up code checking\n",
    "from learntools.core import binder\n",
    "binder.bind(globals())\n",
    "from learntools.machine_learning.ex4 import *\n",
    "print(\"Setup Complete\")"
   ]
  },
  {
   "cell_type": "markdown",
   "id": "53eebc48",
   "metadata": {
    "papermill": {
     "duration": 0.009882,
     "end_time": "2021-08-12T06:02:17.206785",
     "exception": false,
     "start_time": "2021-08-12T06:02:17.196903",
     "status": "completed"
    },
    "tags": []
   },
   "source": [
    "# Exercises\n",
    "\n",
    "## Step 1: Split Your Data\n",
    "Use the `train_test_split` function to split up your data.\n",
    "\n",
    "Give it the argument `random_state=1` so the `check` functions know what to expect when verifying your code.\n",
    "\n",
    "Recall, your features are loaded in the DataFrame **X** and your target is loaded in **y**.\n"
   ]
  },
  {
   "cell_type": "code",
   "execution_count": 2,
   "id": "34b846a0",
   "metadata": {
    "execution": {
     "iopub.execute_input": "2021-08-12T06:02:17.232503Z",
     "iopub.status.busy": "2021-08-12T06:02:17.231919Z",
     "iopub.status.idle": "2021-08-12T06:02:17.259545Z",
     "shell.execute_reply": "2021-08-12T06:02:17.259080Z",
     "shell.execute_reply.started": "2021-08-12T05:52:53.050517Z"
    },
    "papermill": {
     "duration": 0.042689,
     "end_time": "2021-08-12T06:02:17.259678",
     "exception": false,
     "start_time": "2021-08-12T06:02:17.216989",
     "status": "completed"
    },
    "tags": []
   },
   "outputs": [
    {
     "data": {
      "application/javascript": [
       "parent.postMessage({\"jupyterEvent\": \"custom.exercise_interaction\", \"data\": {\"outcomeType\": 1, \"valueTowardsCompletion\": 0.25, \"interactionType\": 1, \"questionType\": 2, \"questionId\": \"1_SplitData\", \"learnToolsVersion\": \"0.3.4\", \"failureMessage\": \"\", \"exceptionClass\": \"\", \"trace\": \"\"}}, \"*\")"
      ],
      "text/plain": [
       "<IPython.core.display.Javascript object>"
      ]
     },
     "metadata": {},
     "output_type": "display_data"
    },
    {
     "data": {
      "text/markdown": [
       "<span style=\"color:#33cc33\">Correct</span>"
      ],
      "text/plain": [
       "Correct"
      ]
     },
     "metadata": {},
     "output_type": "display_data"
    }
   ],
   "source": [
    "from sklearn.model_selection import train_test_split\n",
    "# fill in and uncomment\n",
    "train_X, val_X, train_y, val_y = train_test_split(X, y, random_state=1)\n",
    "\n",
    "# Check your answer\n",
    "step_1.check()"
   ]
  },
  {
   "cell_type": "code",
   "execution_count": 3,
   "id": "989881d6",
   "metadata": {
    "execution": {
     "iopub.execute_input": "2021-08-12T06:02:17.289218Z",
     "iopub.status.busy": "2021-08-12T06:02:17.288354Z",
     "iopub.status.idle": "2021-08-12T06:02:17.291034Z",
     "shell.execute_reply": "2021-08-12T06:02:17.291723Z",
     "shell.execute_reply.started": "2021-08-12T05:52:56.506608Z"
    },
    "papermill": {
     "duration": 0.021034,
     "end_time": "2021-08-12T06:02:17.291963",
     "exception": false,
     "start_time": "2021-08-12T06:02:17.270929",
     "status": "completed"
    },
    "tags": []
   },
   "outputs": [],
   "source": [
    "# The lines below will show you a hint or the solution.\n",
    "# step_1.hint() \n",
    "#step_1.solution()\n"
   ]
  },
  {
   "cell_type": "markdown",
   "id": "27940767",
   "metadata": {
    "papermill": {
     "duration": 0.013973,
     "end_time": "2021-08-12T06:02:17.318426",
     "exception": false,
     "start_time": "2021-08-12T06:02:17.304453",
     "status": "completed"
    },
    "tags": []
   },
   "source": [
    "## Step 2: Specify and Fit the Model\n",
    "\n",
    "Create a `DecisionTreeRegressor` model and fit it to the relevant data.\n",
    "Set `random_state` to 1 again when creating the model."
   ]
  },
  {
   "cell_type": "code",
   "execution_count": 4,
   "id": "efa34486",
   "metadata": {
    "execution": {
     "iopub.execute_input": "2021-08-12T06:02:17.344859Z",
     "iopub.status.busy": "2021-08-12T06:02:17.344022Z",
     "iopub.status.idle": "2021-08-12T06:02:17.374049Z",
     "shell.execute_reply": "2021-08-12T06:02:17.373141Z",
     "shell.execute_reply.started": "2021-08-12T05:54:37.859287Z"
    },
    "papermill": {
     "duration": 0.043796,
     "end_time": "2021-08-12T06:02:17.374200",
     "exception": false,
     "start_time": "2021-08-12T06:02:17.330404",
     "status": "completed"
    },
    "tags": []
   },
   "outputs": [
    {
     "name": "stdout",
     "output_type": "stream",
     "text": [
      "[186500. 184000. 130000.  92000. 164500. 220000. 335000. 144152. 215000.\n",
      " 262000.]\n",
      "[186500. 184000. 130000.  92000. 164500. 220000. 335000. 144152. 215000.\n",
      " 262000.]\n"
     ]
    },
    {
     "data": {
      "application/javascript": [
       "parent.postMessage({\"jupyterEvent\": \"custom.exercise_interaction\", \"data\": {\"outcomeType\": 1, \"valueTowardsCompletion\": 0.25, \"interactionType\": 1, \"questionType\": 2, \"questionId\": \"2_FitModelWithTrain\", \"learnToolsVersion\": \"0.3.4\", \"failureMessage\": \"\", \"exceptionClass\": \"\", \"trace\": \"\"}}, \"*\")"
      ],
      "text/plain": [
       "<IPython.core.display.Javascript object>"
      ]
     },
     "metadata": {},
     "output_type": "display_data"
    },
    {
     "data": {
      "text/markdown": [
       "<span style=\"color:#33cc33\">Correct</span>"
      ],
      "text/plain": [
       "Correct"
      ]
     },
     "metadata": {},
     "output_type": "display_data"
    }
   ],
   "source": [
    "# You imported DecisionTreeRegressor in your last exercise\n",
    "# and that code has been copied to the setup code above. So, no need to\n",
    "from sklearn.tree import DecisionTreeRegressor\n",
    "\n",
    "# Specify the model\n",
    "iowa_model = DecisionTreeRegressor(random_state=1)\n",
    "\n",
    "# Fit iowa_model with the training data.\n",
    "iowa_model.fit(train_X, train_y)\n",
    "\n",
    "# Check your answer\n",
    "step_2.check()"
   ]
  },
  {
   "cell_type": "code",
   "execution_count": 5,
   "id": "21e1e7a2",
   "metadata": {
    "execution": {
     "iopub.execute_input": "2021-08-12T06:02:17.405559Z",
     "iopub.status.busy": "2021-08-12T06:02:17.405003Z",
     "iopub.status.idle": "2021-08-12T06:02:17.407514Z",
     "shell.execute_reply": "2021-08-12T06:02:17.407088Z",
     "shell.execute_reply.started": "2021-08-12T05:54:41.591599Z"
    },
    "papermill": {
     "duration": 0.020632,
     "end_time": "2021-08-12T06:02:17.407644",
     "exception": false,
     "start_time": "2021-08-12T06:02:17.387012",
     "status": "completed"
    },
    "tags": []
   },
   "outputs": [],
   "source": [
    "# step_2.hint()\n",
    "#step_2.solution()"
   ]
  },
  {
   "cell_type": "markdown",
   "id": "55d8879c",
   "metadata": {
    "papermill": {
     "duration": 0.011543,
     "end_time": "2021-08-12T06:02:17.431209",
     "exception": false,
     "start_time": "2021-08-12T06:02:17.419666",
     "status": "completed"
    },
    "tags": []
   },
   "source": [
    "## Step 3: Make Predictions with Validation data\n"
   ]
  },
  {
   "cell_type": "code",
   "execution_count": 6,
   "id": "e4e1168a",
   "metadata": {
    "execution": {
     "iopub.execute_input": "2021-08-12T06:02:17.464129Z",
     "iopub.status.busy": "2021-08-12T06:02:17.463399Z",
     "iopub.status.idle": "2021-08-12T06:02:17.469257Z",
     "shell.execute_reply": "2021-08-12T06:02:17.468792Z",
     "shell.execute_reply.started": "2021-08-12T05:55:19.662740Z"
    },
    "papermill": {
     "duration": 0.026244,
     "end_time": "2021-08-12T06:02:17.469397",
     "exception": false,
     "start_time": "2021-08-12T06:02:17.443153",
     "status": "completed"
    },
    "tags": []
   },
   "outputs": [
    {
     "data": {
      "application/javascript": [
       "parent.postMessage({\"jupyterEvent\": \"custom.exercise_interaction\", \"data\": {\"outcomeType\": 1, \"valueTowardsCompletion\": 0.25, \"interactionType\": 1, \"questionType\": 2, \"questionId\": \"3_ValPreds\", \"learnToolsVersion\": \"0.3.4\", \"failureMessage\": \"\", \"exceptionClass\": \"\", \"trace\": \"\"}}, \"*\")"
      ],
      "text/plain": [
       "<IPython.core.display.Javascript object>"
      ]
     },
     "metadata": {},
     "output_type": "display_data"
    },
    {
     "data": {
      "text/markdown": [
       "<span style=\"color:#33cc33\">Correct</span>"
      ],
      "text/plain": [
       "Correct"
      ]
     },
     "metadata": {},
     "output_type": "display_data"
    }
   ],
   "source": [
    "# Predict with all validation observations\n",
    "val_predictions =iowa_model.predict(val_X)\n",
    "\n",
    "# Check your answer\n",
    "step_3.check()"
   ]
  },
  {
   "cell_type": "code",
   "execution_count": 7,
   "id": "cb7882b4",
   "metadata": {
    "execution": {
     "iopub.execute_input": "2021-08-12T06:02:17.498861Z",
     "iopub.status.busy": "2021-08-12T06:02:17.498055Z",
     "iopub.status.idle": "2021-08-12T06:02:17.501379Z",
     "shell.execute_reply": "2021-08-12T06:02:17.500944Z",
     "shell.execute_reply.started": "2021-08-12T05:55:22.970721Z"
    },
    "papermill": {
     "duration": 0.019257,
     "end_time": "2021-08-12T06:02:17.501518",
     "exception": false,
     "start_time": "2021-08-12T06:02:17.482261",
     "status": "completed"
    },
    "tags": []
   },
   "outputs": [],
   "source": [
    "# step_3.hint()\n",
    "#step_3.solution()"
   ]
  },
  {
   "cell_type": "markdown",
   "id": "d07c2e0b",
   "metadata": {
    "papermill": {
     "duration": 0.012072,
     "end_time": "2021-08-12T06:02:17.526304",
     "exception": false,
     "start_time": "2021-08-12T06:02:17.514232",
     "status": "completed"
    },
    "tags": []
   },
   "source": [
    "Inspect your predictions and actual values from validation data."
   ]
  },
  {
   "cell_type": "code",
   "execution_count": 8,
   "id": "330302b0",
   "metadata": {
    "execution": {
     "iopub.execute_input": "2021-08-12T06:02:17.555480Z",
     "iopub.status.busy": "2021-08-12T06:02:17.554880Z",
     "iopub.status.idle": "2021-08-12T06:02:17.558199Z",
     "shell.execute_reply": "2021-08-12T06:02:17.558802Z"
    },
    "papermill": {
     "duration": 0.020274,
     "end_time": "2021-08-12T06:02:17.559018",
     "exception": false,
     "start_time": "2021-08-12T06:02:17.538744",
     "status": "completed"
    },
    "tags": []
   },
   "outputs": [
    {
     "name": "stdout",
     "output_type": "stream",
     "text": [
      "<learntools.core.constants.PlaceholderValue object at 0x7fb4b18bd210>\n",
      "<learntools.core.constants.PlaceholderValue object at 0x7fb4b18bd210>\n"
     ]
    }
   ],
   "source": [
    "# print the top few validation predictions\n",
    "print(____)\n",
    "# print the top few actual prices from validation data\n",
    "print(____)"
   ]
  },
  {
   "cell_type": "markdown",
   "id": "d2d0df1c",
   "metadata": {
    "papermill": {
     "duration": 0.012617,
     "end_time": "2021-08-12T06:02:17.585687",
     "exception": false,
     "start_time": "2021-08-12T06:02:17.573070",
     "status": "completed"
    },
    "tags": []
   },
   "source": [
    "What do you notice that is different from what you saw with in-sample predictions (which are printed after the top code cell in this page).\n",
    "\n",
    "Do you remember why validation predictions differ from in-sample (or training) predictions? This is an important idea from the last lesson.\n",
    "\n",
    "## Step 4: Calculate the Mean Absolute Error in Validation Data\n"
   ]
  },
  {
   "cell_type": "code",
   "execution_count": 9,
   "id": "772aa393",
   "metadata": {
    "execution": {
     "iopub.execute_input": "2021-08-12T06:02:17.617669Z",
     "iopub.status.busy": "2021-08-12T06:02:17.617012Z",
     "iopub.status.idle": "2021-08-12T06:02:17.623150Z",
     "shell.execute_reply": "2021-08-12T06:02:17.622546Z",
     "shell.execute_reply.started": "2021-08-12T06:01:52.493161Z"
    },
    "papermill": {
     "duration": 0.024649,
     "end_time": "2021-08-12T06:02:17.623286",
     "exception": false,
     "start_time": "2021-08-12T06:02:17.598637",
     "status": "completed"
    },
    "tags": []
   },
   "outputs": [
    {
     "name": "stdout",
     "output_type": "stream",
     "text": [
      "29652.931506849316\n"
     ]
    },
    {
     "data": {
      "application/javascript": [
       "parent.postMessage({\"jupyterEvent\": \"custom.exercise_interaction\", \"data\": {\"outcomeType\": 1, \"valueTowardsCompletion\": 0.25, \"interactionType\": 1, \"questionType\": 1, \"questionId\": \"4_MAE\", \"learnToolsVersion\": \"0.3.4\", \"failureMessage\": \"\", \"exceptionClass\": \"\", \"trace\": \"\"}}, \"*\")"
      ],
      "text/plain": [
       "<IPython.core.display.Javascript object>"
      ]
     },
     "metadata": {},
     "output_type": "display_data"
    },
    {
     "data": {
      "text/markdown": [
       "<span style=\"color:#33cc33\">Correct</span>"
      ],
      "text/plain": [
       "Correct"
      ]
     },
     "metadata": {},
     "output_type": "display_data"
    }
   ],
   "source": [
    "from sklearn.metrics import mean_absolute_error\n",
    "val_mae = mean_absolute_error(val_predictions, val_y)\n",
    "\n",
    "# uncomment following line to see the validation_mae\n",
    "print(val_mae)\n",
    "\n",
    "# Check your answer\n",
    "step_4.check()"
   ]
  },
  {
   "cell_type": "code",
   "execution_count": 10,
   "id": "75ba474e",
   "metadata": {
    "execution": {
     "iopub.execute_input": "2021-08-12T06:02:17.654971Z",
     "iopub.status.busy": "2021-08-12T06:02:17.654339Z",
     "iopub.status.idle": "2021-08-12T06:02:17.657089Z",
     "shell.execute_reply": "2021-08-12T06:02:17.656599Z",
     "shell.execute_reply.started": "2021-08-12T06:01:50.359645Z"
    },
    "papermill": {
     "duration": 0.020035,
     "end_time": "2021-08-12T06:02:17.657219",
     "exception": false,
     "start_time": "2021-08-12T06:02:17.637184",
     "status": "completed"
    },
    "tags": []
   },
   "outputs": [],
   "source": [
    "# step_4.hint()\n",
    "#step_4.solution()"
   ]
  },
  {
   "cell_type": "markdown",
   "id": "81d7da40",
   "metadata": {
    "papermill": {
     "duration": 0.015754,
     "end_time": "2021-08-12T06:02:17.689554",
     "exception": false,
     "start_time": "2021-08-12T06:02:17.673800",
     "status": "completed"
    },
    "tags": []
   },
   "source": [
    "Is that MAE good?  There isn't a general rule for what values are good that applies across applications. But you'll see how to use (and improve) this number in the next step.\n",
    "\n",
    "# Keep Going\n",
    "\n",
    "You are ready for **[Underfitting and Overfitting](https://www.kaggle.com/dansbecker/underfitting-and-overfitting).**\n"
   ]
  },
  {
   "cell_type": "markdown",
   "id": "51e5ae96",
   "metadata": {
    "papermill": {
     "duration": 0.015753,
     "end_time": "2021-08-12T06:02:17.720747",
     "exception": false,
     "start_time": "2021-08-12T06:02:17.704994",
     "status": "completed"
    },
    "tags": []
   },
   "source": [
    "---\n",
    "\n",
    "\n",
    "\n",
    "\n",
    "*Have questions or comments? Visit the [Learn Discussion forum](https://www.kaggle.com/learn-forum/161285) to chat with other Learners.*"
   ]
  }
 ],
 "metadata": {
  "kernelspec": {
   "display_name": "Python 3",
   "language": "python",
   "name": "python3"
  },
  "language_info": {
   "codemirror_mode": {
    "name": "ipython",
    "version": 3
   },
   "file_extension": ".py",
   "mimetype": "text/x-python",
   "name": "python",
   "nbconvert_exporter": "python",
   "pygments_lexer": "ipython3",
   "version": "3.7.10"
  },
  "papermill": {
   "default_parameters": {},
   "duration": 9.526846,
   "end_time": "2021-08-12T06:02:18.445234",
   "environment_variables": {},
   "exception": null,
   "input_path": "__notebook__.ipynb",
   "output_path": "__notebook__.ipynb",
   "parameters": {},
   "start_time": "2021-08-12T06:02:08.918388",
   "version": "2.3.3"
  }
 },
 "nbformat": 4,
 "nbformat_minor": 5
}
