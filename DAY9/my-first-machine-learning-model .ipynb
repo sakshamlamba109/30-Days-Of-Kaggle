{
 "cells": [
  {
   "cell_type": "markdown",
   "id": "4c918b4b",
   "metadata": {
    "papermill": {
     "duration": 0.01611,
     "end_time": "2021-08-12T04:51:32.726469",
     "exception": false,
     "start_time": "2021-08-12T04:51:32.710359",
     "status": "completed"
    },
    "tags": []
   },
   "source": [
    "**This notebook is an exercise in the [Introduction to Machine Learning](https://www.kaggle.com/learn/intro-to-machine-learning) course.  You can reference the tutorial at [this link](https://www.kaggle.com/dansbecker/your-first-machine-learning-model).**\n",
    "\n",
    "---\n"
   ]
  },
  {
   "cell_type": "markdown",
   "id": "de943b83",
   "metadata": {
    "papermill": {
     "duration": 0.014794,
     "end_time": "2021-08-12T04:51:32.756926",
     "exception": false,
     "start_time": "2021-08-12T04:51:32.742132",
     "status": "completed"
    },
    "tags": []
   },
   "source": [
    "## Recap\n",
    "So far, you have loaded your data and reviewed it with the following code. Run this cell to set up your coding environment where the previous step left off."
   ]
  },
  {
   "cell_type": "code",
   "execution_count": 1,
   "id": "1660c472",
   "metadata": {
    "execution": {
     "iopub.execute_input": "2021-08-12T04:51:32.792187Z",
     "iopub.status.busy": "2021-08-12T04:51:32.790902Z",
     "iopub.status.idle": "2021-08-12T04:51:34.217879Z",
     "shell.execute_reply": "2021-08-12T04:51:34.216993Z",
     "shell.execute_reply.started": "2021-08-12T04:15:49.322921Z"
    },
    "papermill": {
     "duration": 1.445872,
     "end_time": "2021-08-12T04:51:34.218057",
     "exception": false,
     "start_time": "2021-08-12T04:51:32.772185",
     "status": "completed"
    },
    "tags": []
   },
   "outputs": [
    {
     "name": "stdout",
     "output_type": "stream",
     "text": [
      "Setup Complete\n"
     ]
    }
   ],
   "source": [
    "# Code you have previously used to load data\n",
    "import pandas as pd\n",
    "\n",
    "# Path of the file to read\n",
    "iowa_file_path = '../input/home-data-for-ml-course/train.csv'\n",
    "\n",
    "home_data = pd.read_csv(iowa_file_path)\n",
    "\n",
    "# Set up code checking\n",
    "from learntools.core import binder\n",
    "binder.bind(globals())\n",
    "from learntools.machine_learning.ex3 import *\n",
    "\n",
    "print(\"Setup Complete\")"
   ]
  },
  {
   "cell_type": "markdown",
   "id": "b5db0d35",
   "metadata": {
    "papermill": {
     "duration": 0.015434,
     "end_time": "2021-08-12T04:51:34.249620",
     "exception": false,
     "start_time": "2021-08-12T04:51:34.234186",
     "status": "completed"
    },
    "tags": []
   },
   "source": [
    "# Exercises\n",
    "\n",
    "## Step 1: Specify Prediction Target\n",
    "Select the target variable, which corresponds to the sales price. Save this to a new variable called `y`. You'll need to print a list of the columns to find the name of the column you need.\n"
   ]
  },
  {
   "cell_type": "code",
   "execution_count": 2,
   "id": "80c0b282",
   "metadata": {
    "collapsed": true,
    "execution": {
     "iopub.execute_input": "2021-08-12T04:51:34.286558Z",
     "iopub.status.busy": "2021-08-12T04:51:34.285589Z",
     "iopub.status.idle": "2021-08-12T04:51:34.288670Z",
     "shell.execute_reply": "2021-08-12T04:51:34.288026Z"
    },
    "jupyter": {
     "outputs_hidden": true
    },
    "papermill": {
     "duration": 0.022908,
     "end_time": "2021-08-12T04:51:34.288820",
     "exception": false,
     "start_time": "2021-08-12T04:51:34.265912",
     "status": "completed"
    },
    "tags": []
   },
   "outputs": [],
   "source": [
    "# print the list of columns in the dataset to find the name of the prediction target\n"
   ]
  },
  {
   "cell_type": "code",
   "execution_count": 3,
   "id": "a42425b0",
   "metadata": {
    "execution": {
     "iopub.execute_input": "2021-08-12T04:51:34.335536Z",
     "iopub.status.busy": "2021-08-12T04:51:34.332265Z",
     "iopub.status.idle": "2021-08-12T04:51:34.341021Z",
     "shell.execute_reply": "2021-08-12T04:51:34.341706Z",
     "shell.execute_reply.started": "2021-08-12T04:17:40.105766Z"
    },
    "papermill": {
     "duration": 0.036862,
     "end_time": "2021-08-12T04:51:34.341925",
     "exception": false,
     "start_time": "2021-08-12T04:51:34.305063",
     "status": "completed"
    },
    "tags": []
   },
   "outputs": [
    {
     "data": {
      "application/javascript": [
       "parent.postMessage({\"jupyterEvent\": \"custom.exercise_interaction\", \"data\": {\"outcomeType\": 1, \"valueTowardsCompletion\": 0.25, \"interactionType\": 1, \"questionType\": 2, \"questionId\": \"1_SetTarget\", \"learnToolsVersion\": \"0.3.4\", \"failureMessage\": \"\", \"exceptionClass\": \"\", \"trace\": \"\"}}, \"*\")"
      ],
      "text/plain": [
       "<IPython.core.display.Javascript object>"
      ]
     },
     "metadata": {},
     "output_type": "display_data"
    },
    {
     "data": {
      "text/markdown": [
       "<span style=\"color:#33cc33\">Correct</span>"
      ],
      "text/plain": [
       "Correct"
      ]
     },
     "metadata": {},
     "output_type": "display_data"
    }
   ],
   "source": [
    "y = home_data.SalePrice\n",
    "\n",
    "# Check your answer\n",
    "step_1.check()"
   ]
  },
  {
   "cell_type": "code",
   "execution_count": 4,
   "id": "acf94965",
   "metadata": {
    "execution": {
     "iopub.execute_input": "2021-08-12T04:51:34.380896Z",
     "iopub.status.busy": "2021-08-12T04:51:34.380234Z",
     "iopub.status.idle": "2021-08-12T04:51:34.383278Z",
     "shell.execute_reply": "2021-08-12T04:51:34.383783Z",
     "shell.execute_reply.started": "2021-08-12T04:17:37.084660Z"
    },
    "papermill": {
     "duration": 0.023788,
     "end_time": "2021-08-12T04:51:34.383957",
     "exception": false,
     "start_time": "2021-08-12T04:51:34.360169",
     "status": "completed"
    },
    "tags": []
   },
   "outputs": [],
   "source": [
    "# The lines below will show you a hint or the solution.\n",
    "# step_1.hint() \n",
    "#step_1.solution()"
   ]
  },
  {
   "cell_type": "markdown",
   "id": "6fe98bf9",
   "metadata": {
    "papermill": {
     "duration": 0.016602,
     "end_time": "2021-08-12T04:51:34.417459",
     "exception": false,
     "start_time": "2021-08-12T04:51:34.400857",
     "status": "completed"
    },
    "tags": []
   },
   "source": [
    "## Step 2: Create X\n",
    "Now you will create a DataFrame called `X` holding the predictive features.\n",
    "\n",
    "Since you want only some columns from the original data, you'll first create a list with the names of the columns you want in `X`.\n",
    "\n",
    "You'll use just the following columns in the list (you can copy and paste the whole list to save some typing, though you'll still need to add quotes):\n",
    "    * LotArea\n",
    "    * YearBuilt\n",
    "    * 1stFlrSF\n",
    "    * 2ndFlrSF\n",
    "    * FullBath\n",
    "    * BedroomAbvGr\n",
    "    * TotRmsAbvGrd\n",
    "\n",
    "After you've created that list of features, use it to create the DataFrame that you'll use to fit the model."
   ]
  },
  {
   "cell_type": "code",
   "execution_count": 5,
   "id": "9d23b625",
   "metadata": {
    "execution": {
     "iopub.execute_input": "2021-08-12T04:51:34.459000Z",
     "iopub.status.busy": "2021-08-12T04:51:34.457939Z",
     "iopub.status.idle": "2021-08-12T04:51:34.466385Z",
     "shell.execute_reply": "2021-08-12T04:51:34.465679Z",
     "shell.execute_reply.started": "2021-08-12T04:20:29.045825Z"
    },
    "papermill": {
     "duration": 0.032038,
     "end_time": "2021-08-12T04:51:34.466533",
     "exception": false,
     "start_time": "2021-08-12T04:51:34.434495",
     "status": "completed"
    },
    "tags": []
   },
   "outputs": [
    {
     "data": {
      "application/javascript": [
       "parent.postMessage({\"jupyterEvent\": \"custom.exercise_interaction\", \"data\": {\"outcomeType\": 1, \"valueTowardsCompletion\": 0.25, \"interactionType\": 1, \"questionType\": 2, \"questionId\": \"2_SelectPredictionData\", \"learnToolsVersion\": \"0.3.4\", \"failureMessage\": \"\", \"exceptionClass\": \"\", \"trace\": \"\"}}, \"*\")"
      ],
      "text/plain": [
       "<IPython.core.display.Javascript object>"
      ]
     },
     "metadata": {},
     "output_type": "display_data"
    },
    {
     "data": {
      "text/markdown": [
       "<span style=\"color:#33cc33\">Correct</span>"
      ],
      "text/plain": [
       "Correct"
      ]
     },
     "metadata": {},
     "output_type": "display_data"
    }
   ],
   "source": [
    "# Create the list of features below\n",
    "feature_names = [ \"LotArea\", \"YearBuilt\",\"1stFlrSF\",\"2ndFlrSF\",\"FullBath\",\"BedroomAbvGr\",\"TotRmsAbvGrd\"]\n",
    "\n",
    "# Select data corresponding to features in feature_names\n",
    "X = home_data[feature_names]\n",
    "\n",
    "# Check your answer\n",
    "step_2.check()"
   ]
  },
  {
   "cell_type": "code",
   "execution_count": 6,
   "id": "e71f3e3c",
   "metadata": {
    "collapsed": true,
    "execution": {
     "iopub.execute_input": "2021-08-12T04:51:34.506481Z",
     "iopub.status.busy": "2021-08-12T04:51:34.505530Z",
     "iopub.status.idle": "2021-08-12T04:51:34.508609Z",
     "shell.execute_reply": "2021-08-12T04:51:34.508010Z"
    },
    "jupyter": {
     "outputs_hidden": true
    },
    "papermill": {
     "duration": 0.024392,
     "end_time": "2021-08-12T04:51:34.508754",
     "exception": false,
     "start_time": "2021-08-12T04:51:34.484362",
     "status": "completed"
    },
    "tags": []
   },
   "outputs": [],
   "source": [
    "# step_2.hint()\n",
    "# step_2.solution()"
   ]
  },
  {
   "cell_type": "markdown",
   "id": "de30fbcc",
   "metadata": {
    "papermill": {
     "duration": 0.01764,
     "end_time": "2021-08-12T04:51:34.544147",
     "exception": false,
     "start_time": "2021-08-12T04:51:34.526507",
     "status": "completed"
    },
    "tags": []
   },
   "source": [
    "## Review Data\n",
    "Before building a model, take a quick look at **X** to verify it looks sensible"
   ]
  },
  {
   "cell_type": "code",
   "execution_count": 7,
   "id": "cfbed7b1",
   "metadata": {
    "execution": {
     "iopub.execute_input": "2021-08-12T04:51:34.583159Z",
     "iopub.status.busy": "2021-08-12T04:51:34.582478Z",
     "iopub.status.idle": "2021-08-12T04:51:34.618171Z",
     "shell.execute_reply": "2021-08-12T04:51:34.618672Z",
     "shell.execute_reply.started": "2021-08-12T04:22:21.334402Z"
    },
    "papermill": {
     "duration": 0.056597,
     "end_time": "2021-08-12T04:51:34.618852",
     "exception": false,
     "start_time": "2021-08-12T04:51:34.562255",
     "status": "completed"
    },
    "tags": []
   },
   "outputs": [
    {
     "name": "stdout",
     "output_type": "stream",
     "text": [
      "             LotArea    YearBuilt     1stFlrSF     2ndFlrSF     FullBath  \\\n",
      "count    1460.000000  1460.000000  1460.000000  1460.000000  1460.000000   \n",
      "mean    10516.828082  1971.267808  1162.626712   346.992466     1.565068   \n",
      "std      9981.264932    30.202904   386.587738   436.528436     0.550916   \n",
      "min      1300.000000  1872.000000   334.000000     0.000000     0.000000   \n",
      "25%      7553.500000  1954.000000   882.000000     0.000000     1.000000   \n",
      "50%      9478.500000  1973.000000  1087.000000     0.000000     2.000000   \n",
      "75%     11601.500000  2000.000000  1391.250000   728.000000     2.000000   \n",
      "max    215245.000000  2010.000000  4692.000000  2065.000000     3.000000   \n",
      "\n",
      "       BedroomAbvGr  TotRmsAbvGrd  \n",
      "count   1460.000000   1460.000000  \n",
      "mean       2.866438      6.517808  \n",
      "std        0.815778      1.625393  \n",
      "min        0.000000      2.000000  \n",
      "25%        2.000000      5.000000  \n",
      "50%        3.000000      6.000000  \n",
      "75%        3.000000      7.000000  \n",
      "max        8.000000     14.000000  \n",
      "   LotArea  YearBuilt  1stFlrSF  2ndFlrSF  FullBath  BedroomAbvGr  \\\n",
      "0     8450       2003       856       854         2             3   \n",
      "1     9600       1976      1262         0         2             3   \n",
      "2    11250       2001       920       866         2             3   \n",
      "3     9550       1915       961       756         1             3   \n",
      "4    14260       2000      1145      1053         2             4   \n",
      "\n",
      "   TotRmsAbvGrd  \n",
      "0             8  \n",
      "1             6  \n",
      "2             6  \n",
      "3             7  \n",
      "4             9  \n"
     ]
    }
   ],
   "source": [
    "# Review data\n",
    "Z=X.describe()\n",
    "print(Z)\n",
    "\n",
    "temp=X.head()\n",
    "print(temp)"
   ]
  },
  {
   "cell_type": "markdown",
   "id": "b9e00133",
   "metadata": {
    "papermill": {
     "duration": 0.017535,
     "end_time": "2021-08-12T04:51:34.654312",
     "exception": false,
     "start_time": "2021-08-12T04:51:34.636777",
     "status": "completed"
    },
    "tags": []
   },
   "source": [
    "## Step 3: Specify and Fit Model\n",
    "Create a `DecisionTreeRegressor` and save it iowa_model. Ensure you've done the relevant import from sklearn to run this command.\n",
    "\n",
    "Then fit the model you just created using the data in `X` and `y` that you saved above."
   ]
  },
  {
   "cell_type": "code",
   "execution_count": 8,
   "id": "e1d78330",
   "metadata": {
    "execution": {
     "iopub.execute_input": "2021-08-12T04:51:34.699050Z",
     "iopub.status.busy": "2021-08-12T04:51:34.698362Z",
     "iopub.status.idle": "2021-08-12T04:51:34.710759Z",
     "shell.execute_reply": "2021-08-12T04:51:34.711336Z",
     "shell.execute_reply.started": "2021-08-12T04:48:44.998964Z"
    },
    "papermill": {
     "duration": 0.039442,
     "end_time": "2021-08-12T04:51:34.711512",
     "exception": false,
     "start_time": "2021-08-12T04:51:34.672070",
     "status": "completed"
    },
    "tags": []
   },
   "outputs": [
    {
     "data": {
      "application/javascript": [
       "parent.postMessage({\"jupyterEvent\": \"custom.exercise_interaction\", \"data\": {\"outcomeType\": 1, \"valueTowardsCompletion\": 0.25, \"interactionType\": 1, \"questionType\": 2, \"questionId\": \"3_CreateModel\", \"learnToolsVersion\": \"0.3.4\", \"failureMessage\": \"\", \"exceptionClass\": \"\", \"trace\": \"\"}}, \"*\")"
      ],
      "text/plain": [
       "<IPython.core.display.Javascript object>"
      ]
     },
     "metadata": {},
     "output_type": "display_data"
    },
    {
     "data": {
      "text/markdown": [
       "<span style=\"color:#33cc33\">Correct</span>"
      ],
      "text/plain": [
       "Correct"
      ]
     },
     "metadata": {},
     "output_type": "display_data"
    }
   ],
   "source": [
    "from sklearn.tree import DecisionTreeRegressor\n",
    "#specify the model. \n",
    "#For model reproducibility, set a numeric value for random_state when specifying the model\n",
    "iowa_model = DecisionTreeRegressor(random_state=1)\n",
    "\n",
    "# Fit the model\n",
    "iowa_model.fit(X,y)\n",
    "\n",
    "# Check your answer\n",
    "step_3.check()"
   ]
  },
  {
   "cell_type": "code",
   "execution_count": 9,
   "id": "03cbe71f",
   "metadata": {
    "execution": {
     "iopub.execute_input": "2021-08-12T04:51:34.753284Z",
     "iopub.status.busy": "2021-08-12T04:51:34.752552Z",
     "iopub.status.idle": "2021-08-12T04:51:34.755821Z",
     "shell.execute_reply": "2021-08-12T04:51:34.756385Z",
     "shell.execute_reply.started": "2021-08-12T04:49:01.650544Z"
    },
    "papermill": {
     "duration": 0.026017,
     "end_time": "2021-08-12T04:51:34.756569",
     "exception": false,
     "start_time": "2021-08-12T04:51:34.730552",
     "status": "completed"
    },
    "tags": []
   },
   "outputs": [],
   "source": [
    "# step_3.hint()\n",
    "#step_3.solution()"
   ]
  },
  {
   "cell_type": "markdown",
   "id": "981df963",
   "metadata": {
    "papermill": {
     "duration": 0.018614,
     "end_time": "2021-08-12T04:51:34.794262",
     "exception": false,
     "start_time": "2021-08-12T04:51:34.775648",
     "status": "completed"
    },
    "tags": []
   },
   "source": [
    "## Step 4: Make Predictions\n",
    "Make predictions with the model's `predict` command using `X` as the data. Save the results to a variable called `predictions`."
   ]
  },
  {
   "cell_type": "code",
   "execution_count": 10,
   "id": "7a16e896",
   "metadata": {
    "execution": {
     "iopub.execute_input": "2021-08-12T04:51:34.836082Z",
     "iopub.status.busy": "2021-08-12T04:51:34.835450Z",
     "iopub.status.idle": "2021-08-12T04:51:34.850345Z",
     "shell.execute_reply": "2021-08-12T04:51:34.849701Z",
     "shell.execute_reply.started": "2021-08-12T04:50:48.485238Z"
    },
    "papermill": {
     "duration": 0.037034,
     "end_time": "2021-08-12T04:51:34.850496",
     "exception": false,
     "start_time": "2021-08-12T04:51:34.813462",
     "status": "completed"
    },
    "tags": []
   },
   "outputs": [
    {
     "name": "stdout",
     "output_type": "stream",
     "text": [
      "[208500. 181500. 223500. ... 266500. 142125. 147500.]\n"
     ]
    },
    {
     "data": {
      "application/javascript": [
       "parent.postMessage({\"jupyterEvent\": \"custom.exercise_interaction\", \"data\": {\"outcomeType\": 1, \"valueTowardsCompletion\": 0.25, \"interactionType\": 1, \"questionType\": 2, \"questionId\": \"4_MakePredictions\", \"learnToolsVersion\": \"0.3.4\", \"failureMessage\": \"\", \"exceptionClass\": \"\", \"trace\": \"\"}}, \"*\")"
      ],
      "text/plain": [
       "<IPython.core.display.Javascript object>"
      ]
     },
     "metadata": {},
     "output_type": "display_data"
    },
    {
     "data": {
      "text/markdown": [
       "<span style=\"color:#33cc33\">Correct</span>"
      ],
      "text/plain": [
       "Correct"
      ]
     },
     "metadata": {},
     "output_type": "display_data"
    }
   ],
   "source": [
    "predictions = iowa_model.predict(X)\n",
    "print(predictions)\n",
    "\n",
    "# Check your answer\n",
    "step_4.check()"
   ]
  },
  {
   "cell_type": "code",
   "execution_count": 11,
   "id": "8ca72e53",
   "metadata": {
    "execution": {
     "iopub.execute_input": "2021-08-12T04:51:34.895314Z",
     "iopub.status.busy": "2021-08-12T04:51:34.894592Z",
     "iopub.status.idle": "2021-08-12T04:51:34.897958Z",
     "shell.execute_reply": "2021-08-12T04:51:34.897448Z",
     "shell.execute_reply.started": "2021-08-12T04:50:52.377435Z"
    },
    "papermill": {
     "duration": 0.027443,
     "end_time": "2021-08-12T04:51:34.898100",
     "exception": false,
     "start_time": "2021-08-12T04:51:34.870657",
     "status": "completed"
    },
    "tags": []
   },
   "outputs": [],
   "source": [
    "# step_4.hint()\n",
    "#step_4.solution()"
   ]
  },
  {
   "cell_type": "markdown",
   "id": "18774d68",
   "metadata": {
    "papermill": {
     "duration": 0.020113,
     "end_time": "2021-08-12T04:51:34.938519",
     "exception": false,
     "start_time": "2021-08-12T04:51:34.918406",
     "status": "completed"
    },
    "tags": []
   },
   "source": [
    "## Think About Your Results\n",
    "\n",
    "Use the `head` method to compare the top few predictions to the actual home values (in `y`) for those same homes. Anything surprising?\n"
   ]
  },
  {
   "cell_type": "code",
   "execution_count": 12,
   "id": "ec380236",
   "metadata": {
    "execution": {
     "iopub.execute_input": "2021-08-12T04:51:34.984541Z",
     "iopub.status.busy": "2021-08-12T04:51:34.983835Z",
     "iopub.status.idle": "2021-08-12T04:51:34.986728Z",
     "shell.execute_reply": "2021-08-12T04:51:34.986093Z"
    },
    "papermill": {
     "duration": 0.02792,
     "end_time": "2021-08-12T04:51:34.986867",
     "exception": false,
     "start_time": "2021-08-12T04:51:34.958947",
     "status": "completed"
    },
    "tags": []
   },
   "outputs": [],
   "source": [
    "# You can write code in this cell\n"
   ]
  },
  {
   "cell_type": "markdown",
   "id": "278812b3",
   "metadata": {
    "papermill": {
     "duration": 0.021262,
     "end_time": "2021-08-12T04:51:35.028402",
     "exception": false,
     "start_time": "2021-08-12T04:51:35.007140",
     "status": "completed"
    },
    "tags": []
   },
   "source": [
    "It's natural to ask how accurate the model's predictions will be and how you can improve that. That will be you're next step.\n",
    "\n",
    "# Keep Going\n",
    "\n",
    "You are ready for **[Model Validation](https://www.kaggle.com/dansbecker/model-validation).**\n"
   ]
  },
  {
   "cell_type": "markdown",
   "id": "746f55ad",
   "metadata": {
    "papermill": {
     "duration": 0.020274,
     "end_time": "2021-08-12T04:51:35.069467",
     "exception": false,
     "start_time": "2021-08-12T04:51:35.049193",
     "status": "completed"
    },
    "tags": []
   },
   "source": [
    "---\n",
    "\n",
    "\n",
    "\n",
    "\n",
    "*Have questions or comments? Visit the [Learn Discussion forum](https://www.kaggle.com/learn-forum/161285) to chat with other Learners.*"
   ]
  }
 ],
 "metadata": {
  "kernelspec": {
   "display_name": "Python 3",
   "language": "python",
   "name": "python3"
  },
  "language_info": {
   "codemirror_mode": {
    "name": "ipython",
    "version": 3
   },
   "file_extension": ".py",
   "mimetype": "text/x-python",
   "name": "python",
   "nbconvert_exporter": "python",
   "pygments_lexer": "ipython3",
   "version": "3.7.10"
  },
  "papermill": {
   "default_parameters": {},
   "duration": 11.793759,
   "end_time": "2021-08-12T04:51:36.361261",
   "environment_variables": {},
   "exception": null,
   "input_path": "__notebook__.ipynb",
   "output_path": "__notebook__.ipynb",
   "parameters": {},
   "start_time": "2021-08-12T04:51:24.567502",
   "version": "2.3.3"
  }
 },
 "nbformat": 4,
 "nbformat_minor": 5
}
