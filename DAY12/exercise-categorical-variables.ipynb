{
 "cells": [
  {
   "cell_type": "markdown",
   "id": "12275fa6",
   "metadata": {
    "papermill": {
     "duration": 0.030281,
     "end_time": "2021-08-15T03:56:30.266583",
     "exception": false,
     "start_time": "2021-08-15T03:56:30.236302",
     "status": "completed"
    },
    "tags": []
   },
   "source": [
    "**This notebook is an exercise in the [Intermediate Machine Learning](https://www.kaggle.com/learn/intermediate-machine-learning) course.  You can reference the tutorial at [this link](https://www.kaggle.com/alexisbcook/categorical-variables).**\n",
    "\n",
    "---\n"
   ]
  },
  {
   "cell_type": "markdown",
   "id": "7956bb6d",
   "metadata": {
    "papermill": {
     "duration": 0.028799,
     "end_time": "2021-08-15T03:56:30.325378",
     "exception": false,
     "start_time": "2021-08-15T03:56:30.296579",
     "status": "completed"
    },
    "tags": []
   },
   "source": [
    "By encoding **categorical variables**, you'll obtain your best results thus far!\n",
    "\n",
    "# Setup\n",
    "\n",
    "The questions below will give you feedback on your work. Run the following cell to set up the feedback system."
   ]
  },
  {
   "cell_type": "code",
   "execution_count": 1,
   "id": "44a80df7",
   "metadata": {
    "execution": {
     "iopub.execute_input": "2021-08-15T03:56:30.400988Z",
     "iopub.status.busy": "2021-08-15T03:56:30.400011Z",
     "iopub.status.idle": "2021-08-15T03:56:30.544538Z",
     "shell.execute_reply": "2021-08-15T03:56:30.543672Z",
     "shell.execute_reply.started": "2021-08-15T03:49:05.712107Z"
    },
    "papermill": {
     "duration": 0.190163,
     "end_time": "2021-08-15T03:56:30.544754",
     "exception": false,
     "start_time": "2021-08-15T03:56:30.354591",
     "status": "completed"
    },
    "tags": []
   },
   "outputs": [
    {
     "name": "stdout",
     "output_type": "stream",
     "text": [
      "Setup Complete\n"
     ]
    }
   ],
   "source": [
    "# Set up code checking\n",
    "import os\n",
    "if not os.path.exists(\"../input/train.csv\"):\n",
    "    os.symlink(\"../input/home-data-for-ml-course/train.csv\", \"../input/train.csv\")  \n",
    "    os.symlink(\"../input/home-data-for-ml-course/test.csv\", \"../input/test.csv\") \n",
    "from learntools.core import binder\n",
    "binder.bind(globals())\n",
    "from learntools.ml_intermediate.ex3 import *\n",
    "print(\"Setup Complete\")"
   ]
  },
  {
   "cell_type": "markdown",
   "id": "a3f03858",
   "metadata": {
    "papermill": {
     "duration": 0.029322,
     "end_time": "2021-08-15T03:56:30.605911",
     "exception": false,
     "start_time": "2021-08-15T03:56:30.576589",
     "status": "completed"
    },
    "tags": []
   },
   "source": [
    "In this exercise, you will work with data from the [Housing Prices Competition for Kaggle Learn Users](https://www.kaggle.com/c/home-data-for-ml-course). \n",
    "\n",
    "![Ames Housing dataset image](https://i.imgur.com/lTJVG4e.png)\n",
    "\n",
    "Run the next code cell without changes to load the training and validation sets in `X_train`, `X_valid`, `y_train`, and `y_valid`.  The test set is loaded in `X_test`."
   ]
  },
  {
   "cell_type": "code",
   "execution_count": 2,
   "id": "e9e36db6",
   "metadata": {
    "execution": {
     "iopub.execute_input": "2021-08-15T03:56:30.674064Z",
     "iopub.status.busy": "2021-08-15T03:56:30.673358Z",
     "iopub.status.idle": "2021-08-15T03:56:31.824633Z",
     "shell.execute_reply": "2021-08-15T03:56:31.823890Z",
     "shell.execute_reply.started": "2021-08-15T03:49:10.939377Z"
    },
    "papermill": {
     "duration": 1.189232,
     "end_time": "2021-08-15T03:56:31.824785",
     "exception": false,
     "start_time": "2021-08-15T03:56:30.635553",
     "status": "completed"
    },
    "tags": []
   },
   "outputs": [],
   "source": [
    "import pandas as pd\n",
    "from sklearn.model_selection import train_test_split\n",
    "\n",
    "# Read the data\n",
    "X = pd.read_csv('../input/train.csv', index_col='Id') \n",
    "X_test = pd.read_csv('../input/test.csv', index_col='Id')\n",
    "\n",
    "# Remove rows with missing target, separate target from predictors\n",
    "X.dropna(axis=0, subset=['SalePrice'], inplace=True)\n",
    "y = X.SalePrice\n",
    "X.drop(['SalePrice'], axis=1, inplace=True)\n",
    "\n",
    "# To keep things simple, we'll drop columns with missing values\n",
    "cols_with_missing = [col for col in X.columns if X[col].isnull().any()] \n",
    "X.drop(cols_with_missing, axis=1, inplace=True)\n",
    "X_test.drop(cols_with_missing, axis=1, inplace=True)\n",
    "\n",
    "# Break off validation set from training data\n",
    "X_train, X_valid, y_train, y_valid = train_test_split(X, y,\n",
    "                                                      train_size=0.8, test_size=0.2,\n",
    "                                                      random_state=0)"
   ]
  },
  {
   "cell_type": "markdown",
   "id": "84fea3e3",
   "metadata": {
    "papermill": {
     "duration": 0.03165,
     "end_time": "2021-08-15T03:56:31.886277",
     "exception": false,
     "start_time": "2021-08-15T03:56:31.854627",
     "status": "completed"
    },
    "tags": []
   },
   "source": [
    "Use the next code cell to print the first five rows of the data."
   ]
  },
  {
   "cell_type": "code",
   "execution_count": 3,
   "id": "0442c428",
   "metadata": {
    "execution": {
     "iopub.execute_input": "2021-08-15T03:56:31.955304Z",
     "iopub.status.busy": "2021-08-15T03:56:31.954414Z",
     "iopub.status.idle": "2021-08-15T03:56:31.980846Z",
     "shell.execute_reply": "2021-08-15T03:56:31.981343Z",
     "shell.execute_reply.started": "2021-08-15T03:49:15.687168Z"
    },
    "papermill": {
     "duration": 0.06569,
     "end_time": "2021-08-15T03:56:31.981512",
     "exception": false,
     "start_time": "2021-08-15T03:56:31.915822",
     "status": "completed"
    },
    "tags": []
   },
   "outputs": [
    {
     "data": {
      "text/html": [
       "<div>\n",
       "<style scoped>\n",
       "    .dataframe tbody tr th:only-of-type {\n",
       "        vertical-align: middle;\n",
       "    }\n",
       "\n",
       "    .dataframe tbody tr th {\n",
       "        vertical-align: top;\n",
       "    }\n",
       "\n",
       "    .dataframe thead th {\n",
       "        text-align: right;\n",
       "    }\n",
       "</style>\n",
       "<table border=\"1\" class=\"dataframe\">\n",
       "  <thead>\n",
       "    <tr style=\"text-align: right;\">\n",
       "      <th></th>\n",
       "      <th>MSSubClass</th>\n",
       "      <th>MSZoning</th>\n",
       "      <th>LotArea</th>\n",
       "      <th>Street</th>\n",
       "      <th>LotShape</th>\n",
       "      <th>LandContour</th>\n",
       "      <th>Utilities</th>\n",
       "      <th>LotConfig</th>\n",
       "      <th>LandSlope</th>\n",
       "      <th>Neighborhood</th>\n",
       "      <th>...</th>\n",
       "      <th>OpenPorchSF</th>\n",
       "      <th>EnclosedPorch</th>\n",
       "      <th>3SsnPorch</th>\n",
       "      <th>ScreenPorch</th>\n",
       "      <th>PoolArea</th>\n",
       "      <th>MiscVal</th>\n",
       "      <th>MoSold</th>\n",
       "      <th>YrSold</th>\n",
       "      <th>SaleType</th>\n",
       "      <th>SaleCondition</th>\n",
       "    </tr>\n",
       "    <tr>\n",
       "      <th>Id</th>\n",
       "      <th></th>\n",
       "      <th></th>\n",
       "      <th></th>\n",
       "      <th></th>\n",
       "      <th></th>\n",
       "      <th></th>\n",
       "      <th></th>\n",
       "      <th></th>\n",
       "      <th></th>\n",
       "      <th></th>\n",
       "      <th></th>\n",
       "      <th></th>\n",
       "      <th></th>\n",
       "      <th></th>\n",
       "      <th></th>\n",
       "      <th></th>\n",
       "      <th></th>\n",
       "      <th></th>\n",
       "      <th></th>\n",
       "      <th></th>\n",
       "      <th></th>\n",
       "    </tr>\n",
       "  </thead>\n",
       "  <tbody>\n",
       "    <tr>\n",
       "      <th>619</th>\n",
       "      <td>20</td>\n",
       "      <td>RL</td>\n",
       "      <td>11694</td>\n",
       "      <td>Pave</td>\n",
       "      <td>Reg</td>\n",
       "      <td>Lvl</td>\n",
       "      <td>AllPub</td>\n",
       "      <td>Inside</td>\n",
       "      <td>Gtl</td>\n",
       "      <td>NridgHt</td>\n",
       "      <td>...</td>\n",
       "      <td>108</td>\n",
       "      <td>0</td>\n",
       "      <td>0</td>\n",
       "      <td>260</td>\n",
       "      <td>0</td>\n",
       "      <td>0</td>\n",
       "      <td>7</td>\n",
       "      <td>2007</td>\n",
       "      <td>New</td>\n",
       "      <td>Partial</td>\n",
       "    </tr>\n",
       "    <tr>\n",
       "      <th>871</th>\n",
       "      <td>20</td>\n",
       "      <td>RL</td>\n",
       "      <td>6600</td>\n",
       "      <td>Pave</td>\n",
       "      <td>Reg</td>\n",
       "      <td>Lvl</td>\n",
       "      <td>AllPub</td>\n",
       "      <td>Inside</td>\n",
       "      <td>Gtl</td>\n",
       "      <td>NAmes</td>\n",
       "      <td>...</td>\n",
       "      <td>0</td>\n",
       "      <td>0</td>\n",
       "      <td>0</td>\n",
       "      <td>0</td>\n",
       "      <td>0</td>\n",
       "      <td>0</td>\n",
       "      <td>8</td>\n",
       "      <td>2009</td>\n",
       "      <td>WD</td>\n",
       "      <td>Normal</td>\n",
       "    </tr>\n",
       "    <tr>\n",
       "      <th>93</th>\n",
       "      <td>30</td>\n",
       "      <td>RL</td>\n",
       "      <td>13360</td>\n",
       "      <td>Pave</td>\n",
       "      <td>IR1</td>\n",
       "      <td>HLS</td>\n",
       "      <td>AllPub</td>\n",
       "      <td>Inside</td>\n",
       "      <td>Gtl</td>\n",
       "      <td>Crawfor</td>\n",
       "      <td>...</td>\n",
       "      <td>0</td>\n",
       "      <td>44</td>\n",
       "      <td>0</td>\n",
       "      <td>0</td>\n",
       "      <td>0</td>\n",
       "      <td>0</td>\n",
       "      <td>8</td>\n",
       "      <td>2009</td>\n",
       "      <td>WD</td>\n",
       "      <td>Normal</td>\n",
       "    </tr>\n",
       "    <tr>\n",
       "      <th>818</th>\n",
       "      <td>20</td>\n",
       "      <td>RL</td>\n",
       "      <td>13265</td>\n",
       "      <td>Pave</td>\n",
       "      <td>IR1</td>\n",
       "      <td>Lvl</td>\n",
       "      <td>AllPub</td>\n",
       "      <td>CulDSac</td>\n",
       "      <td>Gtl</td>\n",
       "      <td>Mitchel</td>\n",
       "      <td>...</td>\n",
       "      <td>59</td>\n",
       "      <td>0</td>\n",
       "      <td>0</td>\n",
       "      <td>0</td>\n",
       "      <td>0</td>\n",
       "      <td>0</td>\n",
       "      <td>7</td>\n",
       "      <td>2008</td>\n",
       "      <td>WD</td>\n",
       "      <td>Normal</td>\n",
       "    </tr>\n",
       "    <tr>\n",
       "      <th>303</th>\n",
       "      <td>20</td>\n",
       "      <td>RL</td>\n",
       "      <td>13704</td>\n",
       "      <td>Pave</td>\n",
       "      <td>IR1</td>\n",
       "      <td>Lvl</td>\n",
       "      <td>AllPub</td>\n",
       "      <td>Corner</td>\n",
       "      <td>Gtl</td>\n",
       "      <td>CollgCr</td>\n",
       "      <td>...</td>\n",
       "      <td>81</td>\n",
       "      <td>0</td>\n",
       "      <td>0</td>\n",
       "      <td>0</td>\n",
       "      <td>0</td>\n",
       "      <td>0</td>\n",
       "      <td>1</td>\n",
       "      <td>2006</td>\n",
       "      <td>WD</td>\n",
       "      <td>Normal</td>\n",
       "    </tr>\n",
       "  </tbody>\n",
       "</table>\n",
       "<p>5 rows × 60 columns</p>\n",
       "</div>"
      ],
      "text/plain": [
       "     MSSubClass MSZoning  LotArea Street LotShape LandContour Utilities  \\\n",
       "Id                                                                        \n",
       "619          20       RL    11694   Pave      Reg         Lvl    AllPub   \n",
       "871          20       RL     6600   Pave      Reg         Lvl    AllPub   \n",
       "93           30       RL    13360   Pave      IR1         HLS    AllPub   \n",
       "818          20       RL    13265   Pave      IR1         Lvl    AllPub   \n",
       "303          20       RL    13704   Pave      IR1         Lvl    AllPub   \n",
       "\n",
       "    LotConfig LandSlope Neighborhood  ... OpenPorchSF EnclosedPorch 3SsnPorch  \\\n",
       "Id                                    ...                                       \n",
       "619    Inside       Gtl      NridgHt  ...         108             0         0   \n",
       "871    Inside       Gtl        NAmes  ...           0             0         0   \n",
       "93     Inside       Gtl      Crawfor  ...           0            44         0   \n",
       "818   CulDSac       Gtl      Mitchel  ...          59             0         0   \n",
       "303    Corner       Gtl      CollgCr  ...          81             0         0   \n",
       "\n",
       "    ScreenPorch  PoolArea  MiscVal  MoSold  YrSold SaleType SaleCondition  \n",
       "Id                                                                         \n",
       "619         260         0        0       7    2007      New       Partial  \n",
       "871           0         0        0       8    2009       WD        Normal  \n",
       "93            0         0        0       8    2009       WD        Normal  \n",
       "818           0         0        0       7    2008       WD        Normal  \n",
       "303           0         0        0       1    2006       WD        Normal  \n",
       "\n",
       "[5 rows x 60 columns]"
      ]
     },
     "execution_count": 3,
     "metadata": {},
     "output_type": "execute_result"
    }
   ],
   "source": [
    "X_train.head()"
   ]
  },
  {
   "cell_type": "markdown",
   "id": "880df287",
   "metadata": {
    "papermill": {
     "duration": 0.030936,
     "end_time": "2021-08-15T03:56:32.042514",
     "exception": false,
     "start_time": "2021-08-15T03:56:32.011578",
     "status": "completed"
    },
    "tags": []
   },
   "source": [
    "Notice that the dataset contains both numerical and categorical variables.  You'll need to encode the categorical data before training a model.\n",
    "\n",
    "To compare different models, you'll use the same `score_dataset()` function from the tutorial.  This function reports the [mean absolute error](https://en.wikipedia.org/wiki/Mean_absolute_error) (MAE) from a random forest model."
   ]
  },
  {
   "cell_type": "code",
   "execution_count": 4,
   "id": "a0da2bae",
   "metadata": {
    "execution": {
     "iopub.execute_input": "2021-08-15T03:56:32.107025Z",
     "iopub.status.busy": "2021-08-15T03:56:32.106038Z",
     "iopub.status.idle": "2021-08-15T03:56:32.305139Z",
     "shell.execute_reply": "2021-08-15T03:56:32.305690Z",
     "shell.execute_reply.started": "2021-08-15T03:49:24.471144Z"
    },
    "papermill": {
     "duration": 0.233008,
     "end_time": "2021-08-15T03:56:32.305882",
     "exception": false,
     "start_time": "2021-08-15T03:56:32.072874",
     "status": "completed"
    },
    "tags": []
   },
   "outputs": [],
   "source": [
    "from sklearn.ensemble import RandomForestRegressor\n",
    "from sklearn.metrics import mean_absolute_error\n",
    "\n",
    "# function for comparing different approaches\n",
    "def score_dataset(X_train, X_valid, y_train, y_valid):\n",
    "    model = RandomForestRegressor(n_estimators=100, random_state=0)\n",
    "    model.fit(X_train, y_train)\n",
    "    preds = model.predict(X_valid)\n",
    "    return mean_absolute_error(y_valid, preds)"
   ]
  },
  {
   "cell_type": "markdown",
   "id": "1a5ea916",
   "metadata": {
    "papermill": {
     "duration": 0.030284,
     "end_time": "2021-08-15T03:56:32.367030",
     "exception": false,
     "start_time": "2021-08-15T03:56:32.336746",
     "status": "completed"
    },
    "tags": []
   },
   "source": [
    "# Step 1: Drop columns with categorical data\n",
    "\n",
    "You'll get started with the most straightforward approach.  Use the code cell below to preprocess the data in `X_train` and `X_valid` to remove columns with categorical data.  Set the preprocessed DataFrames to `drop_X_train` and `drop_X_valid`, respectively.  "
   ]
  },
  {
   "cell_type": "code",
   "execution_count": 5,
   "id": "5e41f278",
   "metadata": {
    "execution": {
     "iopub.execute_input": "2021-08-15T03:56:32.432055Z",
     "iopub.status.busy": "2021-08-15T03:56:32.430982Z",
     "iopub.status.idle": "2021-08-15T03:56:32.446970Z",
     "shell.execute_reply": "2021-08-15T03:56:32.446401Z",
     "shell.execute_reply.started": "2021-08-15T03:50:41.929977Z"
    },
    "papermill": {
     "duration": 0.049414,
     "end_time": "2021-08-15T03:56:32.447123",
     "exception": false,
     "start_time": "2021-08-15T03:56:32.397709",
     "status": "completed"
    },
    "tags": []
   },
   "outputs": [
    {
     "data": {
      "application/javascript": [
       "parent.postMessage({\"jupyterEvent\": \"custom.exercise_interaction\", \"data\": {\"outcomeType\": 1, \"valueTowardsCompletion\": 0.5, \"interactionType\": 1, \"questionType\": 2, \"questionId\": \"1_Drop\", \"learnToolsVersion\": \"0.3.4\", \"failureMessage\": \"\", \"exceptionClass\": \"\", \"trace\": \"\"}}, \"*\")"
      ],
      "text/plain": [
       "<IPython.core.display.Javascript object>"
      ]
     },
     "metadata": {},
     "output_type": "display_data"
    },
    {
     "data": {
      "text/markdown": [
       "<span style=\"color:#33cc33\">Correct</span>"
      ],
      "text/plain": [
       "Correct"
      ]
     },
     "metadata": {},
     "output_type": "display_data"
    }
   ],
   "source": [
    "# Fill in the lines below: drop columns in training and validation data\n",
    "drop_X_train = X_train.select_dtypes(exclude=['object'])\n",
    "drop_X_valid = X_valid.select_dtypes(exclude=['object'])\n",
    "# Check your answers\n",
    "step_1.check()"
   ]
  },
  {
   "cell_type": "code",
   "execution_count": 6,
   "id": "974ec3a8",
   "metadata": {
    "execution": {
     "iopub.execute_input": "2021-08-15T03:56:32.515881Z",
     "iopub.status.busy": "2021-08-15T03:56:32.515116Z",
     "iopub.status.idle": "2021-08-15T03:56:32.517169Z",
     "shell.execute_reply": "2021-08-15T03:56:32.517737Z",
     "shell.execute_reply.started": "2021-08-15T03:50:46.980907Z"
    },
    "papermill": {
     "duration": 0.038544,
     "end_time": "2021-08-15T03:56:32.517914",
     "exception": false,
     "start_time": "2021-08-15T03:56:32.479370",
     "status": "completed"
    },
    "tags": []
   },
   "outputs": [],
   "source": [
    "# Lines below will give you a hint or solution code\n",
    "#step_1.hint()\n",
    "#step_1.solution()"
   ]
  },
  {
   "cell_type": "markdown",
   "id": "6806d05e",
   "metadata": {
    "papermill": {
     "duration": 0.031667,
     "end_time": "2021-08-15T03:56:32.581447",
     "exception": false,
     "start_time": "2021-08-15T03:56:32.549780",
     "status": "completed"
    },
    "tags": []
   },
   "source": [
    "Run the next code cell to get the MAE for this approach."
   ]
  },
  {
   "cell_type": "code",
   "execution_count": 7,
   "id": "aa2883ed",
   "metadata": {
    "execution": {
     "iopub.execute_input": "2021-08-15T03:56:32.648154Z",
     "iopub.status.busy": "2021-08-15T03:56:32.647519Z",
     "iopub.status.idle": "2021-08-15T03:56:33.899038Z",
     "shell.execute_reply": "2021-08-15T03:56:33.898485Z",
     "shell.execute_reply.started": "2021-08-15T03:50:50.056780Z"
    },
    "papermill": {
     "duration": 1.286176,
     "end_time": "2021-08-15T03:56:33.899194",
     "exception": false,
     "start_time": "2021-08-15T03:56:32.613018",
     "status": "completed"
    },
    "tags": []
   },
   "outputs": [
    {
     "name": "stdout",
     "output_type": "stream",
     "text": [
      "MAE from Approach 1 (Drop categorical variables):\n",
      "17837.82570776256\n"
     ]
    }
   ],
   "source": [
    "print(\"MAE from Approach 1 (Drop categorical variables):\")\n",
    "print(score_dataset(drop_X_train, drop_X_valid, y_train, y_valid))"
   ]
  },
  {
   "cell_type": "markdown",
   "id": "ed1f2f0e",
   "metadata": {
    "papermill": {
     "duration": 0.031379,
     "end_time": "2021-08-15T03:56:33.964095",
     "exception": false,
     "start_time": "2021-08-15T03:56:33.932716",
     "status": "completed"
    },
    "tags": []
   },
   "source": [
    "Before jumping into ordinal encoding, we'll investigate the dataset.  Specifically, we'll look at the `'Condition2'` column.  The code cell below prints the unique entries in both the training and validation sets."
   ]
  },
  {
   "cell_type": "code",
   "execution_count": 8,
   "id": "ac8789f3",
   "metadata": {
    "execution": {
     "iopub.execute_input": "2021-08-15T03:56:34.036255Z",
     "iopub.status.busy": "2021-08-15T03:56:34.035420Z",
     "iopub.status.idle": "2021-08-15T03:56:34.040519Z",
     "shell.execute_reply": "2021-08-15T03:56:34.041598Z",
     "shell.execute_reply.started": "2021-08-15T03:50:53.692682Z"
    },
    "papermill": {
     "duration": 0.045248,
     "end_time": "2021-08-15T03:56:34.041920",
     "exception": false,
     "start_time": "2021-08-15T03:56:33.996672",
     "status": "completed"
    },
    "tags": []
   },
   "outputs": [
    {
     "name": "stdout",
     "output_type": "stream",
     "text": [
      "Unique values in 'Condition2' column in training data: ['Norm' 'PosA' 'Feedr' 'PosN' 'Artery' 'RRAe']\n",
      "\n",
      "Unique values in 'Condition2' column in validation data: ['Norm' 'RRAn' 'RRNn' 'Artery' 'Feedr' 'PosN']\n"
     ]
    }
   ],
   "source": [
    "print(\"Unique values in 'Condition2' column in training data:\", X_train['Condition2'].unique())\n",
    "print(\"\\nUnique values in 'Condition2' column in validation data:\", X_valid['Condition2'].unique())"
   ]
  },
  {
   "cell_type": "markdown",
   "id": "c4062561",
   "metadata": {
    "papermill": {
     "duration": 0.032063,
     "end_time": "2021-08-15T03:56:34.106933",
     "exception": false,
     "start_time": "2021-08-15T03:56:34.074870",
     "status": "completed"
    },
    "tags": []
   },
   "source": [
    "# Step 2: Ordinal encoding\n",
    "\n",
    "### Part A\n",
    "\n",
    "If you now write code to: \n",
    "- fit an ordinal encoder to the training data, and then \n",
    "- use it to transform both the training and validation data, \n",
    "\n",
    "you'll get an error.  Can you see why this is the case?  (_You'll need  to use the above output to answer this question._)"
   ]
  },
  {
   "cell_type": "code",
   "execution_count": 9,
   "id": "daef924a",
   "metadata": {
    "execution": {
     "iopub.execute_input": "2021-08-15T03:56:34.176147Z",
     "iopub.status.busy": "2021-08-15T03:56:34.173886Z",
     "iopub.status.idle": "2021-08-15T03:56:34.180598Z",
     "shell.execute_reply": "2021-08-15T03:56:34.181066Z",
     "shell.execute_reply.started": "2021-08-15T03:50:57.542815Z"
    },
    "papermill": {
     "duration": 0.042286,
     "end_time": "2021-08-15T03:56:34.181264",
     "exception": false,
     "start_time": "2021-08-15T03:56:34.138978",
     "status": "completed"
    },
    "tags": []
   },
   "outputs": [
    {
     "data": {
      "application/javascript": [
       "parent.postMessage({\"jupyterEvent\": \"custom.exercise_interaction\", \"data\": {\"outcomeType\": 1, \"valueTowardsCompletion\": 0.5, \"interactionType\": 1, \"questionType\": 4, \"questionId\": \"2.1_LabelA\", \"learnToolsVersion\": \"0.3.4\", \"failureMessage\": \"\", \"exceptionClass\": \"\", \"trace\": \"\"}}, \"*\")"
      ],
      "text/plain": [
       "<IPython.core.display.Javascript object>"
      ]
     },
     "metadata": {},
     "output_type": "display_data"
    },
    {
     "data": {
      "text/markdown": [
       "<span style=\"color:#33cc33\">Correct:</span> \n",
       "\n",
       "Fitting an ordinal encoder to a column in the training data creates a corresponding integer-valued label for each unique value **that appears in the training data**. In the case that the validation data contains values that don't also appear in the training data, the encoder will throw an error, because these values won't have an integer assigned to them.  Notice that the `'Condition2'` column in the validation data contains the values `'RRAn'` and `'RRNn'`, but these don't appear in the training data -- thus, if we try to use an ordinal encoder with scikit-learn, the code will throw an error."
      ],
      "text/plain": [
       "Correct: \n",
       "\n",
       "Fitting an ordinal encoder to a column in the training data creates a corresponding integer-valued label for each unique value **that appears in the training data**. In the case that the validation data contains values that don't also appear in the training data, the encoder will throw an error, because these values won't have an integer assigned to them.  Notice that the `'Condition2'` column in the validation data contains the values `'RRAn'` and `'RRNn'`, but these don't appear in the training data -- thus, if we try to use an ordinal encoder with scikit-learn, the code will throw an error."
      ]
     },
     "metadata": {},
     "output_type": "display_data"
    }
   ],
   "source": [
    "# Check your answer (Run this code cell to receive credit!)\n",
    "step_2.a.check()"
   ]
  },
  {
   "cell_type": "code",
   "execution_count": 10,
   "id": "c7cf5ced",
   "metadata": {
    "execution": {
     "iopub.execute_input": "2021-08-15T03:56:34.250969Z",
     "iopub.status.busy": "2021-08-15T03:56:34.250374Z",
     "iopub.status.idle": "2021-08-15T03:56:34.253304Z",
     "shell.execute_reply": "2021-08-15T03:56:34.253740Z"
    },
    "papermill": {
     "duration": 0.039092,
     "end_time": "2021-08-15T03:56:34.253898",
     "exception": false,
     "start_time": "2021-08-15T03:56:34.214806",
     "status": "completed"
    },
    "tags": []
   },
   "outputs": [],
   "source": [
    "#step_2.a.hint()"
   ]
  },
  {
   "cell_type": "markdown",
   "id": "88cdc337",
   "metadata": {
    "papermill": {
     "duration": 0.03308,
     "end_time": "2021-08-15T03:56:34.320255",
     "exception": false,
     "start_time": "2021-08-15T03:56:34.287175",
     "status": "completed"
    },
    "tags": []
   },
   "source": [
    "This is a common problem that you'll encounter with real-world data, and there are many approaches to fixing this issue.  For instance, you can write a custom ordinal encoder to deal with new categories.  The simplest approach, however, is to drop the problematic categorical columns.  \n",
    "\n",
    "Run the code cell below to save the problematic columns to a Python list `bad_label_cols`.  Likewise, columns that can be safely ordinal encoded are stored in `good_label_cols`."
   ]
  },
  {
   "cell_type": "code",
   "execution_count": 11,
   "id": "4fb0a97c",
   "metadata": {
    "execution": {
     "iopub.execute_input": "2021-08-15T03:56:34.390173Z",
     "iopub.status.busy": "2021-08-15T03:56:34.389502Z",
     "iopub.status.idle": "2021-08-15T03:56:34.405984Z",
     "shell.execute_reply": "2021-08-15T03:56:34.405413Z",
     "shell.execute_reply.started": "2021-08-15T03:51:03.279586Z"
    },
    "papermill": {
     "duration": 0.052538,
     "end_time": "2021-08-15T03:56:34.406123",
     "exception": false,
     "start_time": "2021-08-15T03:56:34.353585",
     "status": "completed"
    },
    "tags": []
   },
   "outputs": [
    {
     "name": "stdout",
     "output_type": "stream",
     "text": [
      "Categorical columns that will be ordinal encoded: ['MSZoning', 'Street', 'LotShape', 'LandContour', 'Utilities', 'LotConfig', 'LandSlope', 'Neighborhood', 'Condition1', 'BldgType', 'HouseStyle', 'RoofStyle', 'Exterior1st', 'Exterior2nd', 'ExterQual', 'ExterCond', 'Foundation', 'Heating', 'HeatingQC', 'CentralAir', 'KitchenQual', 'PavedDrive', 'SaleType', 'SaleCondition']\n",
      "\n",
      "Categorical columns that will be dropped from the dataset: ['Functional', 'RoofMatl', 'Condition2']\n"
     ]
    }
   ],
   "source": [
    "# All categorical columns\n",
    "object_cols = [col for col in X_train.columns if X_train[col].dtype == \"object\"]\n",
    "\n",
    "# Columns that can be safely ordinal encoded\n",
    "good_label_cols = [col for col in object_cols if \n",
    "                   set(X_valid[col]).issubset(set(X_train[col]))]\n",
    "        \n",
    "# Problematic columns that will be dropped from the dataset\n",
    "bad_label_cols = list(set(object_cols)-set(good_label_cols))\n",
    "        \n",
    "print('Categorical columns that will be ordinal encoded:', good_label_cols)\n",
    "print('\\nCategorical columns that will be dropped from the dataset:', bad_label_cols)"
   ]
  },
  {
   "cell_type": "markdown",
   "id": "51d61c9c",
   "metadata": {
    "papermill": {
     "duration": 0.033717,
     "end_time": "2021-08-15T03:56:34.473826",
     "exception": false,
     "start_time": "2021-08-15T03:56:34.440109",
     "status": "completed"
    },
    "tags": []
   },
   "source": [
    "### Part B\n",
    "\n",
    "Use the next code cell to ordinal encode the data in `X_train` and `X_valid`.  Set the preprocessed DataFrames to `label_X_train` and `label_X_valid`, respectively.  \n",
    "- We have provided code below to drop the categorical columns in `bad_label_cols` from the dataset. \n",
    "- You should ordinal encode the categorical columns in `good_label_cols`.  "
   ]
  },
  {
   "cell_type": "code",
   "execution_count": 12,
   "id": "8b81fe5c",
   "metadata": {
    "execution": {
     "iopub.execute_input": "2021-08-15T03:56:34.550363Z",
     "iopub.status.busy": "2021-08-15T03:56:34.549630Z",
     "iopub.status.idle": "2021-08-15T03:56:34.609853Z",
     "shell.execute_reply": "2021-08-15T03:56:34.610353Z",
     "shell.execute_reply.started": "2021-08-15T03:52:12.187894Z"
    },
    "papermill": {
     "duration": 0.102956,
     "end_time": "2021-08-15T03:56:34.610537",
     "exception": false,
     "start_time": "2021-08-15T03:56:34.507581",
     "status": "completed"
    },
    "tags": []
   },
   "outputs": [
    {
     "data": {
      "application/javascript": [
       "parent.postMessage({\"jupyterEvent\": \"custom.exercise_interaction\", \"data\": {\"outcomeType\": 1, \"valueTowardsCompletion\": 0.5, \"interactionType\": 1, \"questionType\": 2, \"questionId\": \"2.2_LabelB\", \"learnToolsVersion\": \"0.3.4\", \"failureMessage\": \"\", \"exceptionClass\": \"\", \"trace\": \"\"}}, \"*\")"
      ],
      "text/plain": [
       "<IPython.core.display.Javascript object>"
      ]
     },
     "metadata": {},
     "output_type": "display_data"
    },
    {
     "data": {
      "text/markdown": [
       "<span style=\"color:#33cc33\">Correct</span>"
      ],
      "text/plain": [
       "Correct"
      ]
     },
     "metadata": {},
     "output_type": "display_data"
    }
   ],
   "source": [
    "from sklearn.preprocessing import OrdinalEncoder\n",
    "\n",
    "# Drop categorical columns that will not be encoded\n",
    "label_X_train = X_train.drop(bad_label_cols, axis=1)\n",
    "label_X_valid = X_valid.drop(bad_label_cols, axis=1)\n",
    "\n",
    "# Apply ordinal encoder \n",
    "____ # Your code here\n",
    "ordinal_encoder = OrdinalEncoder()\n",
    "label_X_train[good_label_cols] = ordinal_encoder.fit_transform(X_train[good_label_cols])\n",
    "label_X_valid[good_label_cols] = ordinal_encoder.transform(X_valid[good_label_cols])\n",
    "\n",
    "    \n",
    "# Check your answer\n",
    "step_2.b.check()"
   ]
  },
  {
   "cell_type": "code",
   "execution_count": 13,
   "id": "c569d8fc",
   "metadata": {
    "execution": {
     "iopub.execute_input": "2021-08-15T03:56:34.686093Z",
     "iopub.status.busy": "2021-08-15T03:56:34.685423Z",
     "iopub.status.idle": "2021-08-15T03:56:34.687940Z",
     "shell.execute_reply": "2021-08-15T03:56:34.688426Z",
     "shell.execute_reply.started": "2021-08-15T03:52:16.252409Z"
    },
    "papermill": {
     "duration": 0.042338,
     "end_time": "2021-08-15T03:56:34.688583",
     "exception": false,
     "start_time": "2021-08-15T03:56:34.646245",
     "status": "completed"
    },
    "tags": []
   },
   "outputs": [],
   "source": [
    "# Lines below will give you a hint or solution code\n",
    "#step_2.b.hint()\n",
    "#step_2.b.solution()"
   ]
  },
  {
   "cell_type": "markdown",
   "id": "a4774785",
   "metadata": {
    "papermill": {
     "duration": 0.03489,
     "end_time": "2021-08-15T03:56:34.758413",
     "exception": false,
     "start_time": "2021-08-15T03:56:34.723523",
     "status": "completed"
    },
    "tags": []
   },
   "source": [
    "Run the next code cell to get the MAE for this approach."
   ]
  },
  {
   "cell_type": "code",
   "execution_count": 14,
   "id": "a8aaefbe",
   "metadata": {
    "execution": {
     "iopub.execute_input": "2021-08-15T03:56:34.837447Z",
     "iopub.status.busy": "2021-08-15T03:56:34.836705Z",
     "iopub.status.idle": "2021-08-15T03:56:36.436603Z",
     "shell.execute_reply": "2021-08-15T03:56:36.435583Z",
     "shell.execute_reply.started": "2021-08-15T03:52:19.127654Z"
    },
    "papermill": {
     "duration": 1.642435,
     "end_time": "2021-08-15T03:56:36.436808",
     "exception": false,
     "start_time": "2021-08-15T03:56:34.794373",
     "status": "completed"
    },
    "tags": []
   },
   "outputs": [
    {
     "name": "stdout",
     "output_type": "stream",
     "text": [
      "MAE from Approach 2 (Ordinal Encoding):\n",
      "17098.01649543379\n"
     ]
    }
   ],
   "source": [
    "print(\"MAE from Approach 2 (Ordinal Encoding):\") \n",
    "print(score_dataset(label_X_train, label_X_valid, y_train, y_valid))"
   ]
  },
  {
   "cell_type": "markdown",
   "id": "3e5bf0ff",
   "metadata": {
    "papermill": {
     "duration": 0.035099,
     "end_time": "2021-08-15T03:56:36.507711",
     "exception": false,
     "start_time": "2021-08-15T03:56:36.472612",
     "status": "completed"
    },
    "tags": []
   },
   "source": [
    "So far, you've tried two different approaches to dealing with categorical variables.  And, you've seen that encoding categorical data yields better results than removing columns from the dataset.\n",
    "\n",
    "Soon, you'll try one-hot encoding.  Before then, there's one additional topic we need to cover.  Begin by running the next code cell without changes.  "
   ]
  },
  {
   "cell_type": "code",
   "execution_count": 15,
   "id": "0be09a8d",
   "metadata": {
    "execution": {
     "iopub.execute_input": "2021-08-15T03:56:36.587744Z",
     "iopub.status.busy": "2021-08-15T03:56:36.586263Z",
     "iopub.status.idle": "2021-08-15T03:56:36.603721Z",
     "shell.execute_reply": "2021-08-15T03:56:36.604321Z",
     "shell.execute_reply.started": "2021-08-15T03:52:23.356742Z"
    },
    "papermill": {
     "duration": 0.061495,
     "end_time": "2021-08-15T03:56:36.604503",
     "exception": false,
     "start_time": "2021-08-15T03:56:36.543008",
     "status": "completed"
    },
    "tags": []
   },
   "outputs": [
    {
     "data": {
      "text/plain": [
       "[('Street', 2),\n",
       " ('Utilities', 2),\n",
       " ('CentralAir', 2),\n",
       " ('LandSlope', 3),\n",
       " ('PavedDrive', 3),\n",
       " ('LotShape', 4),\n",
       " ('LandContour', 4),\n",
       " ('ExterQual', 4),\n",
       " ('KitchenQual', 4),\n",
       " ('MSZoning', 5),\n",
       " ('LotConfig', 5),\n",
       " ('BldgType', 5),\n",
       " ('ExterCond', 5),\n",
       " ('HeatingQC', 5),\n",
       " ('Condition2', 6),\n",
       " ('RoofStyle', 6),\n",
       " ('Foundation', 6),\n",
       " ('Heating', 6),\n",
       " ('Functional', 6),\n",
       " ('SaleCondition', 6),\n",
       " ('RoofMatl', 7),\n",
       " ('HouseStyle', 8),\n",
       " ('Condition1', 9),\n",
       " ('SaleType', 9),\n",
       " ('Exterior1st', 15),\n",
       " ('Exterior2nd', 16),\n",
       " ('Neighborhood', 25)]"
      ]
     },
     "execution_count": 15,
     "metadata": {},
     "output_type": "execute_result"
    }
   ],
   "source": [
    "# Get number of unique entries in each column with categorical data\n",
    "object_nunique = list(map(lambda col: X_train[col].nunique(), object_cols))\n",
    "d = dict(zip(object_cols, object_nunique))\n",
    "\n",
    "# Print number of unique entries by column, in ascending order\n",
    "sorted(d.items(), key=lambda x: x[1])"
   ]
  },
  {
   "cell_type": "markdown",
   "id": "0b15199e",
   "metadata": {
    "papermill": {
     "duration": 0.035893,
     "end_time": "2021-08-15T03:56:36.677162",
     "exception": false,
     "start_time": "2021-08-15T03:56:36.641269",
     "status": "completed"
    },
    "tags": []
   },
   "source": [
    "# Step 3: Investigating cardinality\n",
    "\n",
    "### Part A\n",
    "\n",
    "The output above shows, for each column with categorical data, the number of unique values in the column.  For instance, the `'Street'` column in the training data has two unique values: `'Grvl'` and `'Pave'`, corresponding to a gravel road and a paved road, respectively.\n",
    "\n",
    "We refer to the number of unique entries of a categorical variable as the **cardinality** of that categorical variable.  For instance, the `'Street'` variable has cardinality 2.\n",
    "\n",
    "Use the output above to answer the questions below."
   ]
  },
  {
   "cell_type": "code",
   "execution_count": 16,
   "id": "72cfe152",
   "metadata": {
    "execution": {
     "iopub.execute_input": "2021-08-15T03:56:36.754960Z",
     "iopub.status.busy": "2021-08-15T03:56:36.754232Z",
     "iopub.status.idle": "2021-08-15T03:56:36.759927Z",
     "shell.execute_reply": "2021-08-15T03:56:36.759362Z",
     "shell.execute_reply.started": "2021-08-15T03:53:20.279050Z"
    },
    "papermill": {
     "duration": 0.046885,
     "end_time": "2021-08-15T03:56:36.760063",
     "exception": false,
     "start_time": "2021-08-15T03:56:36.713178",
     "status": "completed"
    },
    "tags": []
   },
   "outputs": [
    {
     "data": {
      "application/javascript": [
       "parent.postMessage({\"jupyterEvent\": \"custom.exercise_interaction\", \"data\": {\"outcomeType\": 1, \"valueTowardsCompletion\": 0.5, \"interactionType\": 1, \"questionType\": 1, \"questionId\": \"3.1_CardinalityA\", \"learnToolsVersion\": \"0.3.4\", \"failureMessage\": \"\", \"exceptionClass\": \"\", \"trace\": \"\"}}, \"*\")"
      ],
      "text/plain": [
       "<IPython.core.display.Javascript object>"
      ]
     },
     "metadata": {},
     "output_type": "display_data"
    },
    {
     "data": {
      "text/markdown": [
       "<span style=\"color:#33cc33\">Correct</span>"
      ],
      "text/plain": [
       "Correct"
      ]
     },
     "metadata": {},
     "output_type": "display_data"
    }
   ],
   "source": [
    "# Fill in the line below: How many categorical variables in the training data\n",
    "# have cardinality greater than 10?\n",
    "high_cardinality_numcols = 3\n",
    "\n",
    "# Fill in the line below: How many columns are needed to one-hot encode the \n",
    "# 'Neighborhood' variable in the training data?\n",
    "num_cols_neighborhood = 25\n",
    "\n",
    "# Check your answers\n",
    "step_3.a.check()"
   ]
  },
  {
   "cell_type": "code",
   "execution_count": 17,
   "id": "aa38b52b",
   "metadata": {
    "execution": {
     "iopub.execute_input": "2021-08-15T03:56:36.841157Z",
     "iopub.status.busy": "2021-08-15T03:56:36.840449Z",
     "iopub.status.idle": "2021-08-15T03:56:36.842304Z",
     "shell.execute_reply": "2021-08-15T03:56:36.842801Z",
     "shell.execute_reply.started": "2021-08-15T03:53:24.959590Z"
    },
    "papermill": {
     "duration": 0.04429,
     "end_time": "2021-08-15T03:56:36.842982",
     "exception": false,
     "start_time": "2021-08-15T03:56:36.798692",
     "status": "completed"
    },
    "tags": []
   },
   "outputs": [],
   "source": [
    "# Lines below will give you a hint or solution code\n",
    "#step_3.a.hint()\n",
    "#step_3.a.solution()"
   ]
  },
  {
   "cell_type": "markdown",
   "id": "dc5a7f62",
   "metadata": {
    "papermill": {
     "duration": 0.036726,
     "end_time": "2021-08-15T03:56:36.918162",
     "exception": false,
     "start_time": "2021-08-15T03:56:36.881436",
     "status": "completed"
    },
    "tags": []
   },
   "source": [
    "### Part B\n",
    "\n",
    "For large datasets with many rows, one-hot encoding can greatly expand the size of the dataset.  For this reason, we typically will only one-hot encode columns with relatively low cardinality.  Then, high cardinality columns can either be dropped from the dataset, or we can use ordinal encoding.\n",
    "\n",
    "As an example, consider a dataset with 10,000 rows, and containing one categorical column with 100 unique entries.  \n",
    "- If this column is replaced with the corresponding one-hot encoding, how many entries are added to the dataset?  \n",
    "- If we instead replace the column with the ordinal encoding, how many entries are added?  \n",
    "\n",
    "Use your answers to fill in the lines below."
   ]
  },
  {
   "cell_type": "code",
   "execution_count": 18,
   "id": "2fdcf4a0",
   "metadata": {
    "execution": {
     "iopub.execute_input": "2021-08-15T03:56:36.995669Z",
     "iopub.status.busy": "2021-08-15T03:56:36.994989Z",
     "iopub.status.idle": "2021-08-15T03:56:37.002072Z",
     "shell.execute_reply": "2021-08-15T03:56:37.002719Z",
     "shell.execute_reply.started": "2021-08-15T03:54:40.607787Z"
    },
    "papermill": {
     "duration": 0.047944,
     "end_time": "2021-08-15T03:56:37.002909",
     "exception": false,
     "start_time": "2021-08-15T03:56:36.954965",
     "status": "completed"
    },
    "tags": []
   },
   "outputs": [
    {
     "data": {
      "application/javascript": [
       "parent.postMessage({\"jupyterEvent\": \"custom.exercise_interaction\", \"data\": {\"outcomeType\": 1, \"valueTowardsCompletion\": 0.5, \"interactionType\": 1, \"questionType\": 1, \"questionId\": \"3.2_CardinalityB\", \"learnToolsVersion\": \"0.3.4\", \"failureMessage\": \"\", \"exceptionClass\": \"\", \"trace\": \"\"}}, \"*\")"
      ],
      "text/plain": [
       "<IPython.core.display.Javascript object>"
      ]
     },
     "metadata": {},
     "output_type": "display_data"
    },
    {
     "data": {
      "text/markdown": [
       "<span style=\"color:#33cc33\">Correct</span>"
      ],
      "text/plain": [
       "Correct"
      ]
     },
     "metadata": {},
     "output_type": "display_data"
    }
   ],
   "source": [
    "# Fill in the line below: How many entries are added to the dataset by \n",
    "# replacing the column with a one-hot encoding?\n",
    "OH_entries_added = 1e4*100-1e4\n",
    "\n",
    "# Fill in the line below: How many entries are added to the dataset by\n",
    "# replacing the column with an ordinal encoding?\n",
    "label_entries_added = 0\n",
    "\n",
    "# Check your answers\n",
    "step_3.b.check()"
   ]
  },
  {
   "cell_type": "code",
   "execution_count": 19,
   "id": "44e044d7",
   "metadata": {
    "execution": {
     "iopub.execute_input": "2021-08-15T03:56:37.082454Z",
     "iopub.status.busy": "2021-08-15T03:56:37.081717Z",
     "iopub.status.idle": "2021-08-15T03:56:37.084525Z",
     "shell.execute_reply": "2021-08-15T03:56:37.084987Z",
     "shell.execute_reply.started": "2021-08-15T03:54:44.196958Z"
    },
    "papermill": {
     "duration": 0.043904,
     "end_time": "2021-08-15T03:56:37.085164",
     "exception": false,
     "start_time": "2021-08-15T03:56:37.041260",
     "status": "completed"
    },
    "tags": []
   },
   "outputs": [],
   "source": [
    "# Lines below will give you a hint or solution code\n",
    "#step_3.b.hint()\n",
    "#step_3.b.solution()"
   ]
  },
  {
   "cell_type": "markdown",
   "id": "97543f2b",
   "metadata": {
    "papermill": {
     "duration": 0.036862,
     "end_time": "2021-08-15T03:56:37.160142",
     "exception": false,
     "start_time": "2021-08-15T03:56:37.123280",
     "status": "completed"
    },
    "tags": []
   },
   "source": [
    "Next, you'll experiment with one-hot encoding.  But, instead of encoding all of the categorical variables in the dataset, you'll only create a one-hot encoding for columns with cardinality less than 10.\n",
    "\n",
    "Run the code cell below without changes to set `low_cardinality_cols` to a Python list containing the columns that will be one-hot encoded.  Likewise, `high_cardinality_cols` contains a list of categorical columns that will be dropped from the dataset."
   ]
  },
  {
   "cell_type": "code",
   "execution_count": 20,
   "id": "f7cca1ca",
   "metadata": {
    "execution": {
     "iopub.execute_input": "2021-08-15T03:56:37.237749Z",
     "iopub.status.busy": "2021-08-15T03:56:37.237093Z",
     "iopub.status.idle": "2021-08-15T03:56:37.258336Z",
     "shell.execute_reply": "2021-08-15T03:56:37.257677Z",
     "shell.execute_reply.started": "2021-08-15T03:54:48.233534Z"
    },
    "papermill": {
     "duration": 0.061097,
     "end_time": "2021-08-15T03:56:37.258481",
     "exception": false,
     "start_time": "2021-08-15T03:56:37.197384",
     "status": "completed"
    },
    "tags": []
   },
   "outputs": [
    {
     "name": "stdout",
     "output_type": "stream",
     "text": [
      "Categorical columns that will be one-hot encoded: ['MSZoning', 'Street', 'LotShape', 'LandContour', 'Utilities', 'LotConfig', 'LandSlope', 'Condition1', 'Condition2', 'BldgType', 'HouseStyle', 'RoofStyle', 'RoofMatl', 'ExterQual', 'ExterCond', 'Foundation', 'Heating', 'HeatingQC', 'CentralAir', 'KitchenQual', 'Functional', 'PavedDrive', 'SaleType', 'SaleCondition']\n",
      "\n",
      "Categorical columns that will be dropped from the dataset: ['Exterior2nd', 'Neighborhood', 'Exterior1st']\n"
     ]
    }
   ],
   "source": [
    "# Columns that will be one-hot encoded\n",
    "low_cardinality_cols = [col for col in object_cols if X_train[col].nunique() < 10]\n",
    "\n",
    "# Columns that will be dropped from the dataset\n",
    "high_cardinality_cols = list(set(object_cols)-set(low_cardinality_cols))\n",
    "\n",
    "print('Categorical columns that will be one-hot encoded:', low_cardinality_cols)\n",
    "print('\\nCategorical columns that will be dropped from the dataset:', high_cardinality_cols)"
   ]
  },
  {
   "cell_type": "markdown",
   "id": "77e71a62",
   "metadata": {
    "papermill": {
     "duration": 0.037488,
     "end_time": "2021-08-15T03:56:37.334115",
     "exception": false,
     "start_time": "2021-08-15T03:56:37.296627",
     "status": "completed"
    },
    "tags": []
   },
   "source": [
    "# Step 4: One-hot encoding\n",
    "\n",
    "Use the next code cell to one-hot encode the data in `X_train` and `X_valid`.  Set the preprocessed DataFrames to `OH_X_train` and `OH_X_valid`, respectively.  \n",
    "- The full list of categorical columns in the dataset can be found in the Python list `object_cols`.\n",
    "- You should only one-hot encode the categorical columns in `low_cardinality_cols`.  All other categorical columns should be dropped from the dataset. "
   ]
  },
  {
   "cell_type": "code",
   "execution_count": 21,
   "id": "b54e3d47",
   "metadata": {
    "execution": {
     "iopub.execute_input": "2021-08-15T03:56:37.440527Z",
     "iopub.status.busy": "2021-08-15T03:56:37.427751Z",
     "iopub.status.idle": "2021-08-15T03:56:37.460907Z",
     "shell.execute_reply": "2021-08-15T03:56:37.461365Z",
     "shell.execute_reply.started": "2021-08-15T03:55:59.799738Z"
    },
    "papermill": {
     "duration": 0.089601,
     "end_time": "2021-08-15T03:56:37.461535",
     "exception": false,
     "start_time": "2021-08-15T03:56:37.371934",
     "status": "completed"
    },
    "tags": []
   },
   "outputs": [
    {
     "data": {
      "application/javascript": [
       "parent.postMessage({\"jupyterEvent\": \"custom.exercise_interaction\", \"data\": {\"outcomeType\": 1, \"valueTowardsCompletion\": 0.5, \"interactionType\": 1, \"questionType\": 2, \"questionId\": \"4_OneHot\", \"learnToolsVersion\": \"0.3.4\", \"failureMessage\": \"\", \"exceptionClass\": \"\", \"trace\": \"\"}}, \"*\")"
      ],
      "text/plain": [
       "<IPython.core.display.Javascript object>"
      ]
     },
     "metadata": {},
     "output_type": "display_data"
    },
    {
     "data": {
      "text/markdown": [
       "<span style=\"color:#33cc33\">Correct</span>"
      ],
      "text/plain": [
       "Correct"
      ]
     },
     "metadata": {},
     "output_type": "display_data"
    }
   ],
   "source": [
    "from sklearn.preprocessing import OneHotEncoder\n",
    "\n",
    "# Use as many lines of code as you need!\n",
    "OH_encoder = OneHotEncoder(handle_unknown='ignore', sparse=False)\n",
    "OH_cols_train = pd.DataFrame(OH_encoder.fit_transform(X_train[low_cardinality_cols]))\n",
    "OH_cols_valid = pd.DataFrame(OH_encoder.transform(X_valid[low_cardinality_cols]))\n",
    "\n",
    "# One-hot encoding removed index; put it back\n",
    "OH_cols_train.index = X_train.index\n",
    "OH_cols_valid.index = X_valid.index\n",
    "\n",
    "# Remove categorical columns (will replace with one-hot encoding)\n",
    "num_X_train = X_train.drop(object_cols, axis=1)\n",
    "num_X_valid = X_valid.drop(object_cols, axis=1)\n",
    "\n",
    "# Add one-hot encoded columns to numerical features\n",
    "OH_X_train = pd.concat([num_X_train, OH_cols_train], axis=1)\n",
    "OH_X_valid = pd.concat([num_X_valid, OH_cols_valid], axis=1)\n",
    "\n",
    "# Check your answer\n",
    "step_4.check()"
   ]
  },
  {
   "cell_type": "code",
   "execution_count": 22,
   "id": "a1a9a85a",
   "metadata": {
    "execution": {
     "iopub.execute_input": "2021-08-15T03:56:37.545266Z",
     "iopub.status.busy": "2021-08-15T03:56:37.544597Z",
     "iopub.status.idle": "2021-08-15T03:56:37.546499Z",
     "shell.execute_reply": "2021-08-15T03:56:37.546977Z",
     "shell.execute_reply.started": "2021-08-15T03:56:04.328482Z"
    },
    "papermill": {
     "duration": 0.045898,
     "end_time": "2021-08-15T03:56:37.547142",
     "exception": false,
     "start_time": "2021-08-15T03:56:37.501244",
     "status": "completed"
    },
    "tags": []
   },
   "outputs": [],
   "source": [
    "# Lines below will give you a hint or solution code\n",
    "#step_4.hint()\n",
    "#step_4.solution()"
   ]
  },
  {
   "cell_type": "markdown",
   "id": "a498ace8",
   "metadata": {
    "papermill": {
     "duration": 0.0387,
     "end_time": "2021-08-15T03:56:37.624790",
     "exception": false,
     "start_time": "2021-08-15T03:56:37.586090",
     "status": "completed"
    },
    "tags": []
   },
   "source": [
    "Run the next code cell to get the MAE for this approach."
   ]
  },
  {
   "cell_type": "code",
   "execution_count": 23,
   "id": "c5a5f5d4",
   "metadata": {
    "execution": {
     "iopub.execute_input": "2021-08-15T03:56:37.706122Z",
     "iopub.status.busy": "2021-08-15T03:56:37.705463Z",
     "iopub.status.idle": "2021-08-15T03:56:39.690237Z",
     "shell.execute_reply": "2021-08-15T03:56:39.690910Z",
     "shell.execute_reply.started": "2021-08-15T03:56:06.869719Z"
    },
    "papermill": {
     "duration": 2.027373,
     "end_time": "2021-08-15T03:56:39.691142",
     "exception": false,
     "start_time": "2021-08-15T03:56:37.663769",
     "status": "completed"
    },
    "tags": []
   },
   "outputs": [
    {
     "name": "stdout",
     "output_type": "stream",
     "text": [
      "MAE from Approach 3 (One-Hot Encoding):\n",
      "17525.345719178084\n"
     ]
    }
   ],
   "source": [
    "print(\"MAE from Approach 3 (One-Hot Encoding):\") \n",
    "print(score_dataset(OH_X_train, OH_X_valid, y_train, y_valid))"
   ]
  },
  {
   "cell_type": "markdown",
   "id": "90c59d42",
   "metadata": {
    "papermill": {
     "duration": 0.042816,
     "end_time": "2021-08-15T03:56:39.774326",
     "exception": false,
     "start_time": "2021-08-15T03:56:39.731510",
     "status": "completed"
    },
    "tags": []
   },
   "source": [
    "# Generate test predictions and submit your results\n",
    "\n",
    "After you complete Step 4, if you'd like to use what you've learned to submit your results to the leaderboard, you'll need to preprocess the test data before generating predictions.\n",
    "\n",
    "**This step is completely optional, and you do not need to submit results to the leaderboard to successfully complete the exercise.**\n",
    "\n",
    "Check out the previous exercise if you need help with remembering how to [join the competition](https://www.kaggle.com/c/home-data-for-ml-course) or save your results to CSV.  Once you have generated a file with your results, follow the instructions below:\n",
    "1. Begin by clicking on the **Save Version** button in the top right corner of the window.  This will generate a pop-up window.  \n",
    "2. Ensure that the **Save and Run All** option is selected, and then click on the **Save** button.\n",
    "3. This generates a window in the bottom left corner of the notebook.  After it has finished running, click on the number to the right of the **Save Version** button.  This pulls up a list of versions on the right of the screen.  Click on the ellipsis **(...)** to the right of the most recent version, and select **Open in Viewer**.  This brings you into view mode of the same page. You will need to scroll down to get back to these instructions.\n",
    "4. Click on the **Output** tab on the right of the screen.  Then, click on the file you would like to submit, and click on the blue **Submit** button to submit your results to the leaderboard.\n",
    "\n",
    "You have now successfully submitted to the competition!\n",
    "\n",
    "If you want to keep working to improve your performance, select the **Edit** button in the top right of the screen. Then you can change your code and repeat the process. There's a lot of room to improve, and you will climb up the leaderboard as you work.\n"
   ]
  },
  {
   "cell_type": "code",
   "execution_count": 24,
   "id": "2da6ceb6",
   "metadata": {
    "execution": {
     "iopub.execute_input": "2021-08-15T03:56:39.859019Z",
     "iopub.status.busy": "2021-08-15T03:56:39.858393Z",
     "iopub.status.idle": "2021-08-15T03:56:39.861514Z",
     "shell.execute_reply": "2021-08-15T03:56:39.860853Z"
    },
    "papermill": {
     "duration": 0.046958,
     "end_time": "2021-08-15T03:56:39.861651",
     "exception": false,
     "start_time": "2021-08-15T03:56:39.814693",
     "status": "completed"
    },
    "tags": []
   },
   "outputs": [],
   "source": [
    "# (Optional) Your code here"
   ]
  },
  {
   "cell_type": "markdown",
   "id": "5c746cee",
   "metadata": {
    "papermill": {
     "duration": 0.040325,
     "end_time": "2021-08-15T03:56:39.941580",
     "exception": false,
     "start_time": "2021-08-15T03:56:39.901255",
     "status": "completed"
    },
    "tags": []
   },
   "source": [
    "# Keep going\n",
    "\n",
    "With missing value handling and categorical encoding, your modeling process is getting complex. This complexity gets worse when you want to save your model to use in the future. The key to managing this complexity is something called **pipelines**. \n",
    "\n",
    "**[Learn to use pipelines](https://www.kaggle.com/alexisbcook/pipelines)** to preprocess datasets with categorical variables, missing values and any other messiness your data throws at you."
   ]
  },
  {
   "cell_type": "markdown",
   "id": "f4e128fe",
   "metadata": {
    "papermill": {
     "duration": 0.043637,
     "end_time": "2021-08-15T03:56:40.024971",
     "exception": false,
     "start_time": "2021-08-15T03:56:39.981334",
     "status": "completed"
    },
    "tags": []
   },
   "source": [
    "---\n",
    "\n",
    "\n",
    "\n",
    "\n",
    "*Have questions or comments? Visit the [Learn Discussion forum](https://www.kaggle.com/learn-forum/161289) to chat with other Learners.*"
   ]
  }
 ],
 "metadata": {
  "kernelspec": {
   "display_name": "Python 3",
   "language": "python",
   "name": "python3"
  },
  "language_info": {
   "codemirror_mode": {
    "name": "ipython",
    "version": 3
   },
   "file_extension": ".py",
   "mimetype": "text/x-python",
   "name": "python",
   "nbconvert_exporter": "python",
   "pygments_lexer": "ipython3",
   "version": "3.7.10"
  },
  "papermill": {
   "default_parameters": {},
   "duration": 18.846929,
   "end_time": "2021-08-15T03:56:40.787553",
   "environment_variables": {},
   "exception": null,
   "input_path": "__notebook__.ipynb",
   "output_path": "__notebook__.ipynb",
   "parameters": {},
   "start_time": "2021-08-15T03:56:21.940624",
   "version": "2.3.3"
  }
 },
 "nbformat": 4,
 "nbformat_minor": 5
}
