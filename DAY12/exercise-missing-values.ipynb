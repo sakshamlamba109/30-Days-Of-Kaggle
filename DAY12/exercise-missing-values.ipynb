{
 "cells": [
  {
   "cell_type": "markdown",
   "id": "eeea00fe",
   "metadata": {
    "papermill": {
     "duration": 0.021433,
     "end_time": "2021-08-15T03:13:55.031237",
     "exception": false,
     "start_time": "2021-08-15T03:13:55.009804",
     "status": "completed"
    },
    "tags": []
   },
   "source": [
    "**This notebook is an exercise in the [Intermediate Machine Learning](https://www.kaggle.com/learn/intermediate-machine-learning) course.  You can reference the tutorial at [this link](https://www.kaggle.com/alexisbcook/missing-values).**\n",
    "\n",
    "---\n"
   ]
  },
  {
   "cell_type": "markdown",
   "id": "ba8fb09a",
   "metadata": {
    "papermill": {
     "duration": 0.020067,
     "end_time": "2021-08-15T03:13:55.073692",
     "exception": false,
     "start_time": "2021-08-15T03:13:55.053625",
     "status": "completed"
    },
    "tags": []
   },
   "source": [
    "Now it's your turn to test your new knowledge of **missing values** handling. You'll probably find it makes a big difference.\n",
    "\n",
    "# Setup\n",
    "\n",
    "The questions will give you feedback on your work. Run the following cell to set up the feedback system."
   ]
  },
  {
   "cell_type": "code",
   "execution_count": 1,
   "id": "d8321dd8",
   "metadata": {
    "execution": {
     "iopub.execute_input": "2021-08-15T03:13:55.119830Z",
     "iopub.status.busy": "2021-08-15T03:13:55.118729Z",
     "iopub.status.idle": "2021-08-15T03:13:55.254185Z",
     "shell.execute_reply": "2021-08-15T03:13:55.253451Z",
     "shell.execute_reply.started": "2021-08-15T02:36:25.934661Z"
    },
    "papermill": {
     "duration": 0.159186,
     "end_time": "2021-08-15T03:13:55.254344",
     "exception": false,
     "start_time": "2021-08-15T03:13:55.095158",
     "status": "completed"
    },
    "tags": []
   },
   "outputs": [
    {
     "name": "stdout",
     "output_type": "stream",
     "text": [
      "Setup Complete\n"
     ]
    }
   ],
   "source": [
    "# Set up code checking\n",
    "import os\n",
    "if not os.path.exists(\"../input/train.csv\"):\n",
    "    os.symlink(\"../input/home-data-for-ml-course/train.csv\", \"../input/train.csv\")  \n",
    "    os.symlink(\"../input/home-data-for-ml-course/test.csv\", \"../input/test.csv\") \n",
    "from learntools.core import binder\n",
    "binder.bind(globals())\n",
    "from learntools.ml_intermediate.ex2 import *\n",
    "print(\"Setup Complete\")"
   ]
  },
  {
   "cell_type": "markdown",
   "id": "00eccd3e",
   "metadata": {
    "papermill": {
     "duration": 0.020363,
     "end_time": "2021-08-15T03:13:55.295496",
     "exception": false,
     "start_time": "2021-08-15T03:13:55.275133",
     "status": "completed"
    },
    "tags": []
   },
   "source": [
    "In this exercise, you will work with data from the [Housing Prices Competition for Kaggle Learn Users](https://www.kaggle.com/c/home-data-for-ml-course). \n",
    "\n",
    "![Ames Housing dataset image](https://i.imgur.com/lTJVG4e.png)\n",
    "\n",
    "Run the next code cell without changes to load the training and validation sets in `X_train`, `X_valid`, `y_train`, and `y_valid`.  The test set is loaded in `X_test`."
   ]
  },
  {
   "cell_type": "code",
   "execution_count": 2,
   "id": "a3d7f7c5",
   "metadata": {
    "execution": {
     "iopub.execute_input": "2021-08-15T03:13:55.342830Z",
     "iopub.status.busy": "2021-08-15T03:13:55.342194Z",
     "iopub.status.idle": "2021-08-15T03:13:56.420083Z",
     "shell.execute_reply": "2021-08-15T03:13:56.418682Z",
     "shell.execute_reply.started": "2021-08-15T02:36:30.325132Z"
    },
    "papermill": {
     "duration": 1.104138,
     "end_time": "2021-08-15T03:13:56.420242",
     "exception": false,
     "start_time": "2021-08-15T03:13:55.316104",
     "status": "completed"
    },
    "tags": []
   },
   "outputs": [],
   "source": [
    "import pandas as pd\n",
    "from sklearn.model_selection import train_test_split\n",
    "\n",
    "# Read the data\n",
    "X_full = pd.read_csv('../input/train.csv', index_col='Id')\n",
    "X_test_full = pd.read_csv('../input/test.csv', index_col='Id')\n",
    "\n",
    "# Remove rows with missing target, separate target from predictors\n",
    "X_full.dropna(axis=0, subset=['SalePrice'], inplace=True)\n",
    "y = X_full.SalePrice\n",
    "X_full.drop(['SalePrice'], axis=1, inplace=True)\n",
    "\n",
    "# To keep things simple, we'll use only numerical predictors\n",
    "X = X_full.select_dtypes(exclude=['object'])\n",
    "X_test = X_test_full.select_dtypes(exclude=['object'])\n",
    "\n",
    "# Break off validation set from training data\n",
    "X_train, X_valid, y_train, y_valid = train_test_split(X, y, train_size=0.8, test_size=0.2,\n",
    "                                                      random_state=0)"
   ]
  },
  {
   "cell_type": "markdown",
   "id": "f96e3223",
   "metadata": {
    "papermill": {
     "duration": 0.023168,
     "end_time": "2021-08-15T03:13:56.465761",
     "exception": false,
     "start_time": "2021-08-15T03:13:56.442593",
     "status": "completed"
    },
    "tags": []
   },
   "source": [
    "Use the next code cell to print the first five rows of the data."
   ]
  },
  {
   "cell_type": "code",
   "execution_count": 3,
   "id": "41c9c48d",
   "metadata": {
    "execution": {
     "iopub.execute_input": "2021-08-15T03:13:56.521385Z",
     "iopub.status.busy": "2021-08-15T03:13:56.520387Z",
     "iopub.status.idle": "2021-08-15T03:13:56.543910Z",
     "shell.execute_reply": "2021-08-15T03:13:56.544376Z"
    },
    "papermill": {
     "duration": 0.054998,
     "end_time": "2021-08-15T03:13:56.544549",
     "exception": false,
     "start_time": "2021-08-15T03:13:56.489551",
     "status": "completed"
    },
    "tags": []
   },
   "outputs": [
    {
     "data": {
      "text/html": [
       "<div>\n",
       "<style scoped>\n",
       "    .dataframe tbody tr th:only-of-type {\n",
       "        vertical-align: middle;\n",
       "    }\n",
       "\n",
       "    .dataframe tbody tr th {\n",
       "        vertical-align: top;\n",
       "    }\n",
       "\n",
       "    .dataframe thead th {\n",
       "        text-align: right;\n",
       "    }\n",
       "</style>\n",
       "<table border=\"1\" class=\"dataframe\">\n",
       "  <thead>\n",
       "    <tr style=\"text-align: right;\">\n",
       "      <th></th>\n",
       "      <th>MSSubClass</th>\n",
       "      <th>LotFrontage</th>\n",
       "      <th>LotArea</th>\n",
       "      <th>OverallQual</th>\n",
       "      <th>OverallCond</th>\n",
       "      <th>YearBuilt</th>\n",
       "      <th>YearRemodAdd</th>\n",
       "      <th>MasVnrArea</th>\n",
       "      <th>BsmtFinSF1</th>\n",
       "      <th>BsmtFinSF2</th>\n",
       "      <th>...</th>\n",
       "      <th>GarageArea</th>\n",
       "      <th>WoodDeckSF</th>\n",
       "      <th>OpenPorchSF</th>\n",
       "      <th>EnclosedPorch</th>\n",
       "      <th>3SsnPorch</th>\n",
       "      <th>ScreenPorch</th>\n",
       "      <th>PoolArea</th>\n",
       "      <th>MiscVal</th>\n",
       "      <th>MoSold</th>\n",
       "      <th>YrSold</th>\n",
       "    </tr>\n",
       "    <tr>\n",
       "      <th>Id</th>\n",
       "      <th></th>\n",
       "      <th></th>\n",
       "      <th></th>\n",
       "      <th></th>\n",
       "      <th></th>\n",
       "      <th></th>\n",
       "      <th></th>\n",
       "      <th></th>\n",
       "      <th></th>\n",
       "      <th></th>\n",
       "      <th></th>\n",
       "      <th></th>\n",
       "      <th></th>\n",
       "      <th></th>\n",
       "      <th></th>\n",
       "      <th></th>\n",
       "      <th></th>\n",
       "      <th></th>\n",
       "      <th></th>\n",
       "      <th></th>\n",
       "      <th></th>\n",
       "    </tr>\n",
       "  </thead>\n",
       "  <tbody>\n",
       "    <tr>\n",
       "      <th>619</th>\n",
       "      <td>20</td>\n",
       "      <td>90.0</td>\n",
       "      <td>11694</td>\n",
       "      <td>9</td>\n",
       "      <td>5</td>\n",
       "      <td>2007</td>\n",
       "      <td>2007</td>\n",
       "      <td>452.0</td>\n",
       "      <td>48</td>\n",
       "      <td>0</td>\n",
       "      <td>...</td>\n",
       "      <td>774</td>\n",
       "      <td>0</td>\n",
       "      <td>108</td>\n",
       "      <td>0</td>\n",
       "      <td>0</td>\n",
       "      <td>260</td>\n",
       "      <td>0</td>\n",
       "      <td>0</td>\n",
       "      <td>7</td>\n",
       "      <td>2007</td>\n",
       "    </tr>\n",
       "    <tr>\n",
       "      <th>871</th>\n",
       "      <td>20</td>\n",
       "      <td>60.0</td>\n",
       "      <td>6600</td>\n",
       "      <td>5</td>\n",
       "      <td>5</td>\n",
       "      <td>1962</td>\n",
       "      <td>1962</td>\n",
       "      <td>0.0</td>\n",
       "      <td>0</td>\n",
       "      <td>0</td>\n",
       "      <td>...</td>\n",
       "      <td>308</td>\n",
       "      <td>0</td>\n",
       "      <td>0</td>\n",
       "      <td>0</td>\n",
       "      <td>0</td>\n",
       "      <td>0</td>\n",
       "      <td>0</td>\n",
       "      <td>0</td>\n",
       "      <td>8</td>\n",
       "      <td>2009</td>\n",
       "    </tr>\n",
       "    <tr>\n",
       "      <th>93</th>\n",
       "      <td>30</td>\n",
       "      <td>80.0</td>\n",
       "      <td>13360</td>\n",
       "      <td>5</td>\n",
       "      <td>7</td>\n",
       "      <td>1921</td>\n",
       "      <td>2006</td>\n",
       "      <td>0.0</td>\n",
       "      <td>713</td>\n",
       "      <td>0</td>\n",
       "      <td>...</td>\n",
       "      <td>432</td>\n",
       "      <td>0</td>\n",
       "      <td>0</td>\n",
       "      <td>44</td>\n",
       "      <td>0</td>\n",
       "      <td>0</td>\n",
       "      <td>0</td>\n",
       "      <td>0</td>\n",
       "      <td>8</td>\n",
       "      <td>2009</td>\n",
       "    </tr>\n",
       "    <tr>\n",
       "      <th>818</th>\n",
       "      <td>20</td>\n",
       "      <td>NaN</td>\n",
       "      <td>13265</td>\n",
       "      <td>8</td>\n",
       "      <td>5</td>\n",
       "      <td>2002</td>\n",
       "      <td>2002</td>\n",
       "      <td>148.0</td>\n",
       "      <td>1218</td>\n",
       "      <td>0</td>\n",
       "      <td>...</td>\n",
       "      <td>857</td>\n",
       "      <td>150</td>\n",
       "      <td>59</td>\n",
       "      <td>0</td>\n",
       "      <td>0</td>\n",
       "      <td>0</td>\n",
       "      <td>0</td>\n",
       "      <td>0</td>\n",
       "      <td>7</td>\n",
       "      <td>2008</td>\n",
       "    </tr>\n",
       "    <tr>\n",
       "      <th>303</th>\n",
       "      <td>20</td>\n",
       "      <td>118.0</td>\n",
       "      <td>13704</td>\n",
       "      <td>7</td>\n",
       "      <td>5</td>\n",
       "      <td>2001</td>\n",
       "      <td>2002</td>\n",
       "      <td>150.0</td>\n",
       "      <td>0</td>\n",
       "      <td>0</td>\n",
       "      <td>...</td>\n",
       "      <td>843</td>\n",
       "      <td>468</td>\n",
       "      <td>81</td>\n",
       "      <td>0</td>\n",
       "      <td>0</td>\n",
       "      <td>0</td>\n",
       "      <td>0</td>\n",
       "      <td>0</td>\n",
       "      <td>1</td>\n",
       "      <td>2006</td>\n",
       "    </tr>\n",
       "  </tbody>\n",
       "</table>\n",
       "<p>5 rows × 36 columns</p>\n",
       "</div>"
      ],
      "text/plain": [
       "     MSSubClass  LotFrontage  LotArea  OverallQual  OverallCond  YearBuilt  \\\n",
       "Id                                                                           \n",
       "619          20         90.0    11694            9            5       2007   \n",
       "871          20         60.0     6600            5            5       1962   \n",
       "93           30         80.0    13360            5            7       1921   \n",
       "818          20          NaN    13265            8            5       2002   \n",
       "303          20        118.0    13704            7            5       2001   \n",
       "\n",
       "     YearRemodAdd  MasVnrArea  BsmtFinSF1  BsmtFinSF2  ...  GarageArea  \\\n",
       "Id                                                     ...               \n",
       "619          2007       452.0          48           0  ...         774   \n",
       "871          1962         0.0           0           0  ...         308   \n",
       "93           2006         0.0         713           0  ...         432   \n",
       "818          2002       148.0        1218           0  ...         857   \n",
       "303          2002       150.0           0           0  ...         843   \n",
       "\n",
       "     WoodDeckSF  OpenPorchSF  EnclosedPorch  3SsnPorch  ScreenPorch  PoolArea  \\\n",
       "Id                                                                              \n",
       "619           0          108              0          0          260         0   \n",
       "871           0            0              0          0            0         0   \n",
       "93            0            0             44          0            0         0   \n",
       "818         150           59              0          0            0         0   \n",
       "303         468           81              0          0            0         0   \n",
       "\n",
       "     MiscVal  MoSold  YrSold  \n",
       "Id                            \n",
       "619        0       7    2007  \n",
       "871        0       8    2009  \n",
       "93         0       8    2009  \n",
       "818        0       7    2008  \n",
       "303        0       1    2006  \n",
       "\n",
       "[5 rows x 36 columns]"
      ]
     },
     "execution_count": 3,
     "metadata": {},
     "output_type": "execute_result"
    }
   ],
   "source": [
    "X_train.head()"
   ]
  },
  {
   "cell_type": "markdown",
   "id": "409e08fc",
   "metadata": {
    "papermill": {
     "duration": 0.022533,
     "end_time": "2021-08-15T03:13:56.589628",
     "exception": false,
     "start_time": "2021-08-15T03:13:56.567095",
     "status": "completed"
    },
    "tags": []
   },
   "source": [
    "You can already see a few missing values in the first several rows.  In the next step, you'll obtain a more comprehensive understanding of the missing values in the dataset.\n",
    "\n",
    "# Step 1: Preliminary investigation\n",
    "\n",
    "Run the code cell below without changes."
   ]
  },
  {
   "cell_type": "code",
   "execution_count": 4,
   "id": "ffda503d",
   "metadata": {
    "execution": {
     "iopub.execute_input": "2021-08-15T03:13:56.643844Z",
     "iopub.status.busy": "2021-08-15T03:13:56.642945Z",
     "iopub.status.idle": "2021-08-15T03:13:56.646730Z",
     "shell.execute_reply": "2021-08-15T03:13:56.647464Z",
     "shell.execute_reply.started": "2021-08-15T02:37:51.760526Z"
    },
    "papermill": {
     "duration": 0.035451,
     "end_time": "2021-08-15T03:13:56.647867",
     "exception": false,
     "start_time": "2021-08-15T03:13:56.612416",
     "status": "completed"
    },
    "tags": []
   },
   "outputs": [
    {
     "name": "stdout",
     "output_type": "stream",
     "text": [
      "(1168, 36)\n",
      "LotFrontage    212\n",
      "MasVnrArea       6\n",
      "GarageYrBlt     58\n",
      "dtype: int64\n"
     ]
    }
   ],
   "source": [
    "# Shape of training data (num_rows, num_columns)\n",
    "print(X_train.shape)\n",
    "\n",
    "# Number of missing values in each column of training data\n",
    "missing_val_count_by_column = (X_train.isnull().sum())\n",
    "print(missing_val_count_by_column[missing_val_count_by_column > 0])"
   ]
  },
  {
   "cell_type": "markdown",
   "id": "c9e1a087",
   "metadata": {
    "papermill": {
     "duration": 0.031474,
     "end_time": "2021-08-15T03:13:56.705422",
     "exception": false,
     "start_time": "2021-08-15T03:13:56.673948",
     "status": "completed"
    },
    "tags": []
   },
   "source": [
    "### Part A\n",
    "\n",
    "Use the above output to answer the questions below."
   ]
  },
  {
   "cell_type": "code",
   "execution_count": 5,
   "id": "b5384205",
   "metadata": {
    "execution": {
     "iopub.execute_input": "2021-08-15T03:13:56.761148Z",
     "iopub.status.busy": "2021-08-15T03:13:56.760389Z",
     "iopub.status.idle": "2021-08-15T03:13:56.767997Z",
     "shell.execute_reply": "2021-08-15T03:13:56.767440Z",
     "shell.execute_reply.started": "2021-08-15T02:40:36.125032Z"
    },
    "papermill": {
     "duration": 0.035641,
     "end_time": "2021-08-15T03:13:56.768139",
     "exception": false,
     "start_time": "2021-08-15T03:13:56.732498",
     "status": "completed"
    },
    "tags": []
   },
   "outputs": [
    {
     "data": {
      "application/javascript": [
       "parent.postMessage({\"jupyterEvent\": \"custom.exercise_interaction\", \"data\": {\"outcomeType\": 1, \"valueTowardsCompletion\": 1.0, \"interactionType\": 1, \"questionType\": 1, \"questionId\": \"1.1_InvestigateEquality\", \"learnToolsVersion\": \"0.3.4\", \"failureMessage\": \"\", \"exceptionClass\": \"\", \"trace\": \"\"}}, \"*\")"
      ],
      "text/plain": [
       "<IPython.core.display.Javascript object>"
      ]
     },
     "metadata": {},
     "output_type": "display_data"
    },
    {
     "data": {
      "text/markdown": [
       "<span style=\"color:#33cc33\">Correct</span>"
      ],
      "text/plain": [
       "Correct"
      ]
     },
     "metadata": {},
     "output_type": "display_data"
    }
   ],
   "source": [
    "# Fill in the line below: How many rows are in the training data?\n",
    "num_rows = 1168\n",
    "\n",
    "# Fill in the line below: How many columns in the training data\n",
    "# have missing values?\n",
    "num_cols_with_missing =3\n",
    "\n",
    "# Fill in the line below: How many missing entries are contained in \n",
    "# all of the training data?\n",
    "tot_missing = 276\n",
    "\n",
    "# Check your answers\n",
    "step_1.a.check()"
   ]
  },
  {
   "cell_type": "code",
   "execution_count": 6,
   "id": "7f9dafbb",
   "metadata": {
    "execution": {
     "iopub.execute_input": "2021-08-15T03:13:56.823347Z",
     "iopub.status.busy": "2021-08-15T03:13:56.822517Z",
     "iopub.status.idle": "2021-08-15T03:13:56.825974Z",
     "shell.execute_reply": "2021-08-15T03:13:56.825459Z",
     "shell.execute_reply.started": "2021-08-15T02:40:43.031230Z"
    },
    "papermill": {
     "duration": 0.031485,
     "end_time": "2021-08-15T03:13:56.826111",
     "exception": false,
     "start_time": "2021-08-15T03:13:56.794626",
     "status": "completed"
    },
    "tags": []
   },
   "outputs": [],
   "source": [
    "# Lines below will give you a hint or solution code\n",
    "#step_1.a.hint()\n",
    "#step_1.a.solution()"
   ]
  },
  {
   "cell_type": "markdown",
   "id": "00c97650",
   "metadata": {
    "papermill": {
     "duration": 0.024256,
     "end_time": "2021-08-15T03:13:56.873810",
     "exception": false,
     "start_time": "2021-08-15T03:13:56.849554",
     "status": "completed"
    },
    "tags": []
   },
   "source": [
    "### Part B\n",
    "Considering your answers above, what do you think is likely the best approach to dealing with the missing values?"
   ]
  },
  {
   "cell_type": "code",
   "execution_count": 7,
   "id": "7461fc85",
   "metadata": {
    "execution": {
     "iopub.execute_input": "2021-08-15T03:13:56.923921Z",
     "iopub.status.busy": "2021-08-15T03:13:56.922969Z",
     "iopub.status.idle": "2021-08-15T03:13:56.929572Z",
     "shell.execute_reply": "2021-08-15T03:13:56.930020Z"
    },
    "papermill": {
     "duration": 0.032941,
     "end_time": "2021-08-15T03:13:56.930198",
     "exception": false,
     "start_time": "2021-08-15T03:13:56.897257",
     "status": "completed"
    },
    "tags": []
   },
   "outputs": [
    {
     "data": {
      "application/javascript": [
       "parent.postMessage({\"jupyterEvent\": \"custom.exercise_interaction\", \"data\": {\"outcomeType\": 1, \"valueTowardsCompletion\": 1.0, \"interactionType\": 1, \"questionType\": 4, \"questionId\": \"1.2_InvestigateThought\", \"learnToolsVersion\": \"0.3.4\", \"failureMessage\": \"\", \"exceptionClass\": \"\", \"trace\": \"\"}}, \"*\")"
      ],
      "text/plain": [
       "<IPython.core.display.Javascript object>"
      ]
     },
     "metadata": {},
     "output_type": "display_data"
    },
    {
     "data": {
      "text/markdown": [
       "<span style=\"color:#33cc33\">Correct:</span> \n",
       "\n",
       "Since there are relatively few missing entries in the data (the column with the greatest percentage of missing values is missing less than 20% of its entries), we can expect that dropping columns is unlikely to yield good results.  This is because we'd be throwing away a lot of valuable data, and so imputation will likely perform better."
      ],
      "text/plain": [
       "Correct: \n",
       "\n",
       "Since there are relatively few missing entries in the data (the column with the greatest percentage of missing values is missing less than 20% of its entries), we can expect that dropping columns is unlikely to yield good results.  This is because we'd be throwing away a lot of valuable data, and so imputation will likely perform better."
      ]
     },
     "metadata": {},
     "output_type": "display_data"
    }
   ],
   "source": [
    "# Check your answer (Run this code cell to receive credit!)\n",
    "step_1.b.check()"
   ]
  },
  {
   "cell_type": "code",
   "execution_count": 8,
   "id": "d8e70117",
   "metadata": {
    "execution": {
     "iopub.execute_input": "2021-08-15T03:13:56.981860Z",
     "iopub.status.busy": "2021-08-15T03:13:56.981237Z",
     "iopub.status.idle": "2021-08-15T03:13:56.984610Z",
     "shell.execute_reply": "2021-08-15T03:13:56.985193Z"
    },
    "papermill": {
     "duration": 0.030729,
     "end_time": "2021-08-15T03:13:56.985366",
     "exception": false,
     "start_time": "2021-08-15T03:13:56.954637",
     "status": "completed"
    },
    "tags": []
   },
   "outputs": [],
   "source": [
    "#step_1.b.hint()"
   ]
  },
  {
   "cell_type": "markdown",
   "id": "ed071b86",
   "metadata": {
    "papermill": {
     "duration": 0.024528,
     "end_time": "2021-08-15T03:13:57.035135",
     "exception": false,
     "start_time": "2021-08-15T03:13:57.010607",
     "status": "completed"
    },
    "tags": []
   },
   "source": [
    "To compare different approaches to dealing with missing values, you'll use the same `score_dataset()` function from the tutorial.  This function reports the [mean absolute error](https://en.wikipedia.org/wiki/Mean_absolute_error) (MAE) from a random forest model."
   ]
  },
  {
   "cell_type": "code",
   "execution_count": 9,
   "id": "d29ab970",
   "metadata": {
    "execution": {
     "iopub.execute_input": "2021-08-15T03:13:57.089650Z",
     "iopub.status.busy": "2021-08-15T03:13:57.088993Z",
     "iopub.status.idle": "2021-08-15T03:13:57.303242Z",
     "shell.execute_reply": "2021-08-15T03:13:57.302499Z",
     "shell.execute_reply.started": "2021-08-15T02:40:51.980421Z"
    },
    "papermill": {
     "duration": 0.243962,
     "end_time": "2021-08-15T03:13:57.303404",
     "exception": false,
     "start_time": "2021-08-15T03:13:57.059442",
     "status": "completed"
    },
    "tags": []
   },
   "outputs": [],
   "source": [
    "from sklearn.ensemble import RandomForestRegressor\n",
    "from sklearn.metrics import mean_absolute_error\n",
    "\n",
    "# Function for comparing different approaches\n",
    "def score_dataset(X_train, X_valid, y_train, y_valid):\n",
    "    model = RandomForestRegressor(n_estimators=100, random_state=0)\n",
    "    model.fit(X_train, y_train)\n",
    "    preds = model.predict(X_valid)\n",
    "    return mean_absolute_error(y_valid, preds)"
   ]
  },
  {
   "cell_type": "markdown",
   "id": "460063ce",
   "metadata": {
    "papermill": {
     "duration": 0.023899,
     "end_time": "2021-08-15T03:13:57.352109",
     "exception": false,
     "start_time": "2021-08-15T03:13:57.328210",
     "status": "completed"
    },
    "tags": []
   },
   "source": [
    "# Step 2: Drop columns with missing values\n",
    "\n",
    "In this step, you'll preprocess the data in `X_train` and `X_valid` to remove columns with missing values.  Set the preprocessed DataFrames to `reduced_X_train` and `reduced_X_valid`, respectively.  "
   ]
  },
  {
   "cell_type": "code",
   "execution_count": 10,
   "id": "71e2ea26",
   "metadata": {
    "execution": {
     "iopub.execute_input": "2021-08-15T03:13:57.415946Z",
     "iopub.status.busy": "2021-08-15T03:13:57.415175Z",
     "iopub.status.idle": "2021-08-15T03:13:57.417380Z",
     "shell.execute_reply": "2021-08-15T03:13:57.417828Z",
     "shell.execute_reply.started": "2021-08-15T02:42:07.848305Z"
    },
    "papermill": {
     "duration": 0.041528,
     "end_time": "2021-08-15T03:13:57.418036",
     "exception": false,
     "start_time": "2021-08-15T03:13:57.376508",
     "status": "completed"
    },
    "tags": []
   },
   "outputs": [],
   "source": [
    "# Get names of columns with missing values\n",
    "cols_with_missing = [col for col in X_train.columns\n",
    "                     if X_train[col].isnull().any()]\n",
    "\n",
    "# Drop columns in training and validation data\n",
    "reduced_X_train = X_train.drop(cols_with_missing, axis=1)\n",
    "reduced_X_valid = X_valid.drop(cols_with_missing, axis=1)"
   ]
  },
  {
   "cell_type": "code",
   "execution_count": 11,
   "id": "112a8252",
   "metadata": {
    "execution": {
     "iopub.execute_input": "2021-08-15T03:13:57.470782Z",
     "iopub.status.busy": "2021-08-15T03:13:57.470157Z",
     "iopub.status.idle": "2021-08-15T03:13:57.473305Z",
     "shell.execute_reply": "2021-08-15T03:13:57.473722Z",
     "shell.execute_reply.started": "2021-08-15T02:42:13.447583Z"
    },
    "papermill": {
     "duration": 0.030486,
     "end_time": "2021-08-15T03:13:57.473924",
     "exception": false,
     "start_time": "2021-08-15T03:13:57.443438",
     "status": "completed"
    },
    "tags": []
   },
   "outputs": [],
   "source": [
    "# Lines below will give you a hint or solution code\n",
    "#step_2.hint()\n",
    "#step_2.solution()"
   ]
  },
  {
   "cell_type": "markdown",
   "id": "3c60a73d",
   "metadata": {
    "papermill": {
     "duration": 0.023531,
     "end_time": "2021-08-15T03:13:57.522228",
     "exception": false,
     "start_time": "2021-08-15T03:13:57.498697",
     "status": "completed"
    },
    "tags": []
   },
   "source": [
    "Run the next code cell without changes to obtain the MAE for this approach."
   ]
  },
  {
   "cell_type": "code",
   "execution_count": 12,
   "id": "d8a80d8b",
   "metadata": {
    "execution": {
     "iopub.execute_input": "2021-08-15T03:13:57.573596Z",
     "iopub.status.busy": "2021-08-15T03:13:57.572771Z",
     "iopub.status.idle": "2021-08-15T03:13:58.821483Z",
     "shell.execute_reply": "2021-08-15T03:13:58.821938Z",
     "shell.execute_reply.started": "2021-08-15T02:42:17.611107Z"
    },
    "papermill": {
     "duration": 1.276113,
     "end_time": "2021-08-15T03:13:58.822100",
     "exception": false,
     "start_time": "2021-08-15T03:13:57.545987",
     "status": "completed"
    },
    "tags": []
   },
   "outputs": [
    {
     "name": "stdout",
     "output_type": "stream",
     "text": [
      "MAE (Drop columns with missing values):\n",
      "17837.82570776256\n"
     ]
    }
   ],
   "source": [
    "print(\"MAE (Drop columns with missing values):\")\n",
    "print(score_dataset(reduced_X_train, reduced_X_valid, y_train, y_valid))"
   ]
  },
  {
   "cell_type": "markdown",
   "id": "f1bcccee",
   "metadata": {
    "papermill": {
     "duration": 0.024189,
     "end_time": "2021-08-15T03:13:58.871032",
     "exception": false,
     "start_time": "2021-08-15T03:13:58.846843",
     "status": "completed"
    },
    "tags": []
   },
   "source": [
    "# Step 3: Imputation\n",
    "\n",
    "### Part A\n",
    "\n",
    "Use the next code cell to impute missing values with the mean value along each column.  Set the preprocessed DataFrames to `imputed_X_train` and `imputed_X_valid`.  Make sure that the column names match those in `X_train` and `X_valid`."
   ]
  },
  {
   "cell_type": "code",
   "execution_count": 13,
   "id": "b77cbb5b",
   "metadata": {
    "execution": {
     "iopub.execute_input": "2021-08-15T03:13:58.923783Z",
     "iopub.status.busy": "2021-08-15T03:13:58.923192Z",
     "iopub.status.idle": "2021-08-15T03:13:58.958260Z",
     "shell.execute_reply": "2021-08-15T03:13:58.958736Z",
     "shell.execute_reply.started": "2021-08-15T02:44:53.911648Z"
    },
    "papermill": {
     "duration": 0.063395,
     "end_time": "2021-08-15T03:13:58.958955",
     "exception": false,
     "start_time": "2021-08-15T03:13:58.895560",
     "status": "completed"
    },
    "tags": []
   },
   "outputs": [
    {
     "data": {
      "application/javascript": [
       "parent.postMessage({\"jupyterEvent\": \"custom.exercise_interaction\", \"data\": {\"outcomeType\": 1, \"valueTowardsCompletion\": 1.0, \"interactionType\": 1, \"questionType\": 2, \"questionId\": \"3.1_ImputeCode\", \"learnToolsVersion\": \"0.3.4\", \"failureMessage\": \"\", \"exceptionClass\": \"\", \"trace\": \"\"}}, \"*\")"
      ],
      "text/plain": [
       "<IPython.core.display.Javascript object>"
      ]
     },
     "metadata": {},
     "output_type": "display_data"
    },
    {
     "data": {
      "text/markdown": [
       "<span style=\"color:#33cc33\">Correct</span>"
      ],
      "text/plain": [
       "Correct"
      ]
     },
     "metadata": {},
     "output_type": "display_data"
    }
   ],
   "source": [
    "from sklearn.impute import SimpleImputer\n",
    "\n",
    "my_imputer = SimpleImputer()\n",
    "imputed_X_train = pd.DataFrame(my_imputer.fit_transform(X_train))\n",
    "imputed_X_valid = pd.DataFrame(my_imputer.transform(X_valid))\n",
    "\n",
    "# Imputation removed column names; put them back\n",
    "imputed_X_train.columns = X_train.columns\n",
    "imputed_X_valid.columns = X_valid.columns\n",
    "\n",
    "# Check your answers\n",
    "step_3.a.check()"
   ]
  },
  {
   "cell_type": "code",
   "execution_count": 14,
   "id": "449eca40",
   "metadata": {
    "execution": {
     "iopub.execute_input": "2021-08-15T03:13:59.014257Z",
     "iopub.status.busy": "2021-08-15T03:13:59.013627Z",
     "iopub.status.idle": "2021-08-15T03:13:59.016937Z",
     "shell.execute_reply": "2021-08-15T03:13:59.017386Z",
     "shell.execute_reply.started": "2021-08-15T02:44:59.723584Z"
    },
    "papermill": {
     "duration": 0.032085,
     "end_time": "2021-08-15T03:13:59.017545",
     "exception": false,
     "start_time": "2021-08-15T03:13:58.985460",
     "status": "completed"
    },
    "tags": []
   },
   "outputs": [],
   "source": [
    "# Lines below will give you a hint or solution code\n",
    "#step_3.a.hint()\n",
    "#step_3.a.solution()"
   ]
  },
  {
   "cell_type": "markdown",
   "id": "2d6f5526",
   "metadata": {
    "papermill": {
     "duration": 0.02528,
     "end_time": "2021-08-15T03:13:59.068313",
     "exception": false,
     "start_time": "2021-08-15T03:13:59.043033",
     "status": "completed"
    },
    "tags": []
   },
   "source": [
    "Run the next code cell without changes to obtain the MAE for this approach."
   ]
  },
  {
   "cell_type": "code",
   "execution_count": 15,
   "id": "5bbd825e",
   "metadata": {
    "execution": {
     "iopub.execute_input": "2021-08-15T03:13:59.122727Z",
     "iopub.status.busy": "2021-08-15T03:13:59.121712Z",
     "iopub.status.idle": "2021-08-15T03:14:00.474978Z",
     "shell.execute_reply": "2021-08-15T03:14:00.475429Z",
     "shell.execute_reply.started": "2021-08-15T02:52:51.456233Z"
    },
    "papermill": {
     "duration": 1.382076,
     "end_time": "2021-08-15T03:14:00.475590",
     "exception": false,
     "start_time": "2021-08-15T03:13:59.093514",
     "status": "completed"
    },
    "tags": []
   },
   "outputs": [
    {
     "name": "stdout",
     "output_type": "stream",
     "text": [
      "MAE (Imputation):\n",
      "18062.894611872147\n"
     ]
    }
   ],
   "source": [
    "print(\"MAE (Imputation):\")\n",
    "print(score_dataset(imputed_X_train, imputed_X_valid, y_train, y_valid))"
   ]
  },
  {
   "cell_type": "markdown",
   "id": "a156753d",
   "metadata": {
    "papermill": {
     "duration": 0.025762,
     "end_time": "2021-08-15T03:14:00.527232",
     "exception": false,
     "start_time": "2021-08-15T03:14:00.501470",
     "status": "completed"
    },
    "tags": []
   },
   "source": [
    "### Part B\n",
    "\n",
    "Compare the MAE from each approach.  Does anything surprise you about the results?  Why do you think one approach performed better than the other?"
   ]
  },
  {
   "cell_type": "code",
   "execution_count": 16,
   "id": "8281915c",
   "metadata": {
    "execution": {
     "iopub.execute_input": "2021-08-15T03:14:00.584049Z",
     "iopub.status.busy": "2021-08-15T03:14:00.583071Z",
     "iopub.status.idle": "2021-08-15T03:14:00.588635Z",
     "shell.execute_reply": "2021-08-15T03:14:00.589170Z",
     "shell.execute_reply.started": "2021-08-15T02:52:17.674468Z"
    },
    "papermill": {
     "duration": 0.03649,
     "end_time": "2021-08-15T03:14:00.589347",
     "exception": false,
     "start_time": "2021-08-15T03:14:00.552857",
     "status": "completed"
    },
    "tags": []
   },
   "outputs": [
    {
     "data": {
      "application/javascript": [
       "parent.postMessage({\"jupyterEvent\": \"custom.exercise_interaction\", \"data\": {\"outcomeType\": 1, \"valueTowardsCompletion\": 1.0, \"interactionType\": 1, \"questionType\": 4, \"questionId\": \"3.2_ImputeThought\", \"learnToolsVersion\": \"0.3.4\", \"failureMessage\": \"\", \"exceptionClass\": \"\", \"trace\": \"\"}}, \"*\")"
      ],
      "text/plain": [
       "<IPython.core.display.Javascript object>"
      ]
     },
     "metadata": {},
     "output_type": "display_data"
    },
    {
     "data": {
      "text/markdown": [
       "<span style=\"color:#33cc33\">Correct:</span> \n",
       "\n",
       "Given that thre are so few missing values in the dataset, we'd expect imputation to perform better than dropping columns entirely.  However, we see that dropping columns performs slightly better!  While this can probably partially be attributed to noise in the dataset, another potential explanation is that the imputation method is not a great match to this dataset.  That is, maybe instead of filling in the mean value, it makes more sense to set every missing value to a value of 0, to fill in the most frequently encountered value, or to use some other method.  For instance, consider the `GarageYrBlt` column (which indicates the year that the garage was built).  It's likely that in some cases, a missing value could indicate a house that does not have a garage.  Does it make more sense to fill in the median value along each column in this case?  Or could we get better results by filling in the minimum value along each column?  It's not quite clear what's best in this case, but perhaps we can rule out some options immediately - for instance, setting missing values in this column to 0 is likely to yield horrible results!"
      ],
      "text/plain": [
       "Correct: \n",
       "\n",
       "Given that thre are so few missing values in the dataset, we'd expect imputation to perform better than dropping columns entirely.  However, we see that dropping columns performs slightly better!  While this can probably partially be attributed to noise in the dataset, another potential explanation is that the imputation method is not a great match to this dataset.  That is, maybe instead of filling in the mean value, it makes more sense to set every missing value to a value of 0, to fill in the most frequently encountered value, or to use some other method.  For instance, consider the `GarageYrBlt` column (which indicates the year that the garage was built).  It's likely that in some cases, a missing value could indicate a house that does not have a garage.  Does it make more sense to fill in the median value along each column in this case?  Or could we get better results by filling in the minimum value along each column?  It's not quite clear what's best in this case, but perhaps we can rule out some options immediately - for instance, setting missing values in this column to 0 is likely to yield horrible results!"
      ]
     },
     "metadata": {},
     "output_type": "display_data"
    }
   ],
   "source": [
    "# Check your answer (Run this code cell to receive credit!)\n",
    "step_3.b.check()"
   ]
  },
  {
   "cell_type": "code",
   "execution_count": 17,
   "id": "2b6c9d43",
   "metadata": {
    "execution": {
     "iopub.execute_input": "2021-08-15T03:14:00.646178Z",
     "iopub.status.busy": "2021-08-15T03:14:00.645523Z",
     "iopub.status.idle": "2021-08-15T03:14:00.648753Z",
     "shell.execute_reply": "2021-08-15T03:14:00.648201Z"
    },
    "papermill": {
     "duration": 0.033302,
     "end_time": "2021-08-15T03:14:00.648910",
     "exception": false,
     "start_time": "2021-08-15T03:14:00.615608",
     "status": "completed"
    },
    "tags": []
   },
   "outputs": [],
   "source": [
    "#step_3.b.hint()"
   ]
  },
  {
   "cell_type": "markdown",
   "id": "cfc88d88",
   "metadata": {
    "papermill": {
     "duration": 0.025722,
     "end_time": "2021-08-15T03:14:00.701235",
     "exception": false,
     "start_time": "2021-08-15T03:14:00.675513",
     "status": "completed"
    },
    "tags": []
   },
   "source": [
    "# Step 4: Generate test predictions\n",
    "\n",
    "In this final step, you'll use any approach of your choosing to deal with missing values.  Once you've preprocessed the training and validation features, you'll train and evaluate a random forest model.  Then, you'll preprocess the test data before generating predictions that can be submitted to the competition!\n",
    "\n",
    "### Part A\n",
    "\n",
    "Use the next code cell to preprocess the training and validation data.  Set the preprocessed DataFrames to `final_X_train` and `final_X_valid`.  **You can use any approach of your choosing here!**  in order for this step to be marked as correct, you need only ensure:\n",
    "- the preprocessed DataFrames have the same number of columns,\n",
    "- the preprocessed DataFrames have no missing values, \n",
    "- `final_X_train` and `y_train` have the same number of rows, and\n",
    "- `final_X_valid` and `y_valid` have the same number of rows."
   ]
  },
  {
   "cell_type": "code",
   "execution_count": 18,
   "id": "55230cc5",
   "metadata": {
    "execution": {
     "iopub.execute_input": "2021-08-15T03:14:00.761280Z",
     "iopub.status.busy": "2021-08-15T03:14:00.760635Z",
     "iopub.status.idle": "2021-08-15T03:14:00.787977Z",
     "shell.execute_reply": "2021-08-15T03:14:00.787242Z",
     "shell.execute_reply.started": "2021-08-15T03:12:07.814678Z"
    },
    "papermill": {
     "duration": 0.060586,
     "end_time": "2021-08-15T03:14:00.788137",
     "exception": false,
     "start_time": "2021-08-15T03:14:00.727551",
     "status": "completed"
    },
    "tags": []
   },
   "outputs": [
    {
     "data": {
      "application/javascript": [
       "parent.postMessage({\"jupyterEvent\": \"custom.exercise_interaction\", \"data\": {\"outcomeType\": 1, \"valueTowardsCompletion\": 1.0, \"interactionType\": 1, \"questionType\": 2, \"questionId\": \"4.1_PredsCodeA\", \"learnToolsVersion\": \"0.3.4\", \"failureMessage\": \"\", \"exceptionClass\": \"\", \"trace\": \"\"}}, \"*\")"
      ],
      "text/plain": [
       "<IPython.core.display.Javascript object>"
      ]
     },
     "metadata": {},
     "output_type": "display_data"
    },
    {
     "data": {
      "text/markdown": [
       "<span style=\"color:#33cc33\">Correct</span>"
      ],
      "text/plain": [
       "Correct"
      ]
     },
     "metadata": {},
     "output_type": "display_data"
    }
   ],
   "source": [
    "#Imputation\n",
    "final_imputer = SimpleImputer(strategy='median')\n",
    "final_X_train = pd.DataFrame(final_imputer.fit_transform(X_train))\n",
    "final_X_valid = pd.DataFrame(final_imputer.transform(X_valid))\n",
    "\n",
    "# Imputation removed column names; put them back\n",
    "final_X_train.columns = X_train.columns\n",
    "final_X_valid.columns = X_valid.columns\n",
    "# Check your answers\n",
    "step_4.a.check()"
   ]
  },
  {
   "cell_type": "code",
   "execution_count": 19,
   "id": "37bf219e",
   "metadata": {
    "execution": {
     "iopub.execute_input": "2021-08-15T03:14:00.848987Z",
     "iopub.status.busy": "2021-08-15T03:14:00.848331Z",
     "iopub.status.idle": "2021-08-15T03:14:00.850829Z",
     "shell.execute_reply": "2021-08-15T03:14:00.850245Z",
     "shell.execute_reply.started": "2021-08-15T03:12:14.487044Z"
    },
    "papermill": {
     "duration": 0.03433,
     "end_time": "2021-08-15T03:14:00.851036",
     "exception": false,
     "start_time": "2021-08-15T03:14:00.816706",
     "status": "completed"
    },
    "tags": []
   },
   "outputs": [],
   "source": [
    "# Lines below will give you a hint or solution code\n",
    "#step_4.a.hint()\n",
    "#step_4.a.solution()"
   ]
  },
  {
   "cell_type": "markdown",
   "id": "bbc99537",
   "metadata": {
    "papermill": {
     "duration": 0.027601,
     "end_time": "2021-08-15T03:14:00.906207",
     "exception": false,
     "start_time": "2021-08-15T03:14:00.878606",
     "status": "completed"
    },
    "tags": []
   },
   "source": [
    "Run the next code cell to train and evaluate a random forest model.  (*Note that we don't use the `score_dataset()` function above, because we will soon use the trained model to generate test predictions!*)"
   ]
  },
  {
   "cell_type": "code",
   "execution_count": 20,
   "id": "1a6f49fe",
   "metadata": {
    "execution": {
     "iopub.execute_input": "2021-08-15T03:14:00.977392Z",
     "iopub.status.busy": "2021-08-15T03:14:00.966648Z",
     "iopub.status.idle": "2021-08-15T03:14:02.294632Z",
     "shell.execute_reply": "2021-08-15T03:14:02.295086Z",
     "shell.execute_reply.started": "2021-08-15T03:12:19.777818Z"
    },
    "papermill": {
     "duration": 1.362028,
     "end_time": "2021-08-15T03:14:02.295264",
     "exception": false,
     "start_time": "2021-08-15T03:14:00.933236",
     "status": "completed"
    },
    "tags": []
   },
   "outputs": [
    {
     "name": "stdout",
     "output_type": "stream",
     "text": [
      "MAE (Your approach):\n",
      "17791.59899543379\n"
     ]
    }
   ],
   "source": [
    "# Define and fit model\n",
    "model = RandomForestRegressor(n_estimators=100, random_state=0)\n",
    "model.fit(final_X_train, y_train)\n",
    "\n",
    "# Get validation predictions and MAE\n",
    "preds_valid = model.predict(final_X_valid)\n",
    "print(\"MAE (Your approach):\")\n",
    "print(mean_absolute_error(y_valid, preds_valid))"
   ]
  },
  {
   "cell_type": "markdown",
   "id": "58d41794",
   "metadata": {
    "papermill": {
     "duration": 0.027067,
     "end_time": "2021-08-15T03:14:02.349461",
     "exception": false,
     "start_time": "2021-08-15T03:14:02.322394",
     "status": "completed"
    },
    "tags": []
   },
   "source": [
    "### Part B\n",
    "\n",
    "Use the next code cell to preprocess your test data.  Make sure that you use a method that agrees with how you preprocessed the training and validation data, and set the preprocessed test features to `final_X_test`.\n",
    "\n",
    "Then, use the preprocessed test features and the trained model to generate test predictions in `preds_test`.\n",
    "\n",
    "In order for this step to be marked correct, you need only ensure:\n",
    "- the preprocessed test DataFrame has no missing values, and\n",
    "- `final_X_test` has the same number of rows as `X_test`."
   ]
  },
  {
   "cell_type": "code",
   "execution_count": 21,
   "id": "ce49917f",
   "metadata": {
    "execution": {
     "iopub.execute_input": "2021-08-15T03:14:02.410166Z",
     "iopub.status.busy": "2021-08-15T03:14:02.409468Z",
     "iopub.status.idle": "2021-08-15T03:14:02.453520Z",
     "shell.execute_reply": "2021-08-15T03:14:02.453035Z",
     "shell.execute_reply.started": "2021-08-15T03:13:06.133059Z"
    },
    "papermill": {
     "duration": 0.077185,
     "end_time": "2021-08-15T03:14:02.453658",
     "exception": false,
     "start_time": "2021-08-15T03:14:02.376473",
     "status": "completed"
    },
    "tags": []
   },
   "outputs": [
    {
     "data": {
      "application/javascript": [
       "parent.postMessage({\"jupyterEvent\": \"custom.exercise_interaction\", \"data\": {\"outcomeType\": 1, \"valueTowardsCompletion\": 1.0, \"interactionType\": 1, \"questionType\": 2, \"questionId\": \"4.2_PredsCodeB\", \"learnToolsVersion\": \"0.3.4\", \"failureMessage\": \"\", \"exceptionClass\": \"\", \"trace\": \"\"}}, \"*\")"
      ],
      "text/plain": [
       "<IPython.core.display.Javascript object>"
      ]
     },
     "metadata": {},
     "output_type": "display_data"
    },
    {
     "data": {
      "text/markdown": [
       "<span style=\"color:#33cc33\">Correct</span>"
      ],
      "text/plain": [
       "Correct"
      ]
     },
     "metadata": {},
     "output_type": "display_data"
    }
   ],
   "source": [
    "# Fill in the line below: preprocess test data\n",
    "final_X_test =  pd.DataFrame(final_imputer.transform(X_test))\n",
    "\n",
    "# Fill in the line below: get test predictions\n",
    "preds_test = model.predict(final_X_test)\n",
    "\n",
    "# Check your answers\n",
    "step_4.b.check()"
   ]
  },
  {
   "cell_type": "code",
   "execution_count": 22,
   "id": "b4d3e673",
   "metadata": {
    "execution": {
     "iopub.execute_input": "2021-08-15T03:14:02.516743Z",
     "iopub.status.busy": "2021-08-15T03:14:02.515747Z",
     "iopub.status.idle": "2021-08-15T03:14:02.519261Z",
     "shell.execute_reply": "2021-08-15T03:14:02.518648Z",
     "shell.execute_reply.started": "2021-08-15T03:13:13.808368Z"
    },
    "papermill": {
     "duration": 0.036935,
     "end_time": "2021-08-15T03:14:02.519400",
     "exception": false,
     "start_time": "2021-08-15T03:14:02.482465",
     "status": "completed"
    },
    "tags": []
   },
   "outputs": [],
   "source": [
    "# Lines below will give you a hint or solution code\n",
    "#step_4.b.hint()\n",
    "#step_4.b.solution()"
   ]
  },
  {
   "cell_type": "markdown",
   "id": "b0b9041e",
   "metadata": {
    "papermill": {
     "duration": 0.027539,
     "end_time": "2021-08-15T03:14:02.574593",
     "exception": false,
     "start_time": "2021-08-15T03:14:02.547054",
     "status": "completed"
    },
    "tags": []
   },
   "source": [
    "Run the next code cell without changes to save your results to a CSV file that can be submitted directly to the competition."
   ]
  },
  {
   "cell_type": "code",
   "execution_count": 23,
   "id": "06618b6e",
   "metadata": {
    "execution": {
     "iopub.execute_input": "2021-08-15T03:14:02.636125Z",
     "iopub.status.busy": "2021-08-15T03:14:02.635154Z",
     "iopub.status.idle": "2021-08-15T03:14:02.644239Z",
     "shell.execute_reply": "2021-08-15T03:14:02.643679Z",
     "shell.execute_reply.started": "2021-08-15T03:13:18.177216Z"
    },
    "papermill": {
     "duration": 0.042052,
     "end_time": "2021-08-15T03:14:02.644382",
     "exception": false,
     "start_time": "2021-08-15T03:14:02.602330",
     "status": "completed"
    },
    "tags": []
   },
   "outputs": [],
   "source": [
    "# Save test predictions to file\n",
    "output = pd.DataFrame({'Id': X_test.index,\n",
    "                       'SalePrice': preds_test})\n",
    "output.to_csv('submission.csv', index=False)"
   ]
  },
  {
   "cell_type": "markdown",
   "id": "de99738c",
   "metadata": {
    "papermill": {
     "duration": 0.02741,
     "end_time": "2021-08-15T03:14:02.699593",
     "exception": false,
     "start_time": "2021-08-15T03:14:02.672183",
     "status": "completed"
    },
    "tags": []
   },
   "source": [
    "# Submit your results\n",
    "\n",
    "Once you have successfully completed Step 4, you're ready to submit your results to the leaderboard!  (_You also learned how to do this in the previous exercise.  If you need a reminder of how to do this, please use the instructions below._)  \n",
    "\n",
    "First, you'll need to join the competition if you haven't already.  So open a new window by clicking on [this link](https://www.kaggle.com/c/home-data-for-ml-course).  Then click on the **Join Competition** button.\n",
    "\n",
    "![join competition image](https://i.imgur.com/wLmFtH3.png)\n",
    "\n",
    "Next, follow the instructions below:\n",
    "1. Begin by clicking on the blue **Save Version** button in the top right corner of the window.  This will generate a pop-up window.  \n",
    "2. Ensure that the **Save and Run All** option is selected, and then click on the blue **Save** button.\n",
    "3. This generates a window in the bottom left corner of the notebook.  After it has finished running, click on the number to the right of the **Save Version** button.  This pulls up a list of versions on the right of the screen.  Click on the ellipsis **(...)** to the right of the most recent version, and select **Open in Viewer**.  This brings you into view mode of the same page. You will need to scroll down to get back to these instructions.\n",
    "4. Click on the **Output** tab on the right of the screen.  Then, click on the file you would like to submit, and click on the blue **Submit** button to submit your results to the leaderboard.\n",
    "\n",
    "You have now successfully submitted to the competition!\n",
    "\n",
    "If you want to keep working to improve your performance, select the blue **Edit** button in the top right of the screen. Then you can change your code and repeat the process. There's a lot of room to improve, and you will climb up the leaderboard as you work.\n",
    "\n",
    "\n",
    "# Keep going\n",
    "\n",
    "Move on to learn what **[categorical variables](https://www.kaggle.com/alexisbcook/categorical-variables)** are, along with how to incorporate them into your machine learning models.  Categorical variables are very common in real-world data, but you'll get an error if you try to plug them into your models without processing them first!"
   ]
  },
  {
   "cell_type": "markdown",
   "id": "64dababe",
   "metadata": {
    "papermill": {
     "duration": 0.02727,
     "end_time": "2021-08-15T03:14:02.754617",
     "exception": false,
     "start_time": "2021-08-15T03:14:02.727347",
     "status": "completed"
    },
    "tags": []
   },
   "source": [
    "---\n",
    "\n",
    "\n",
    "\n",
    "\n",
    "*Have questions or comments? Visit the [Learn Discussion forum](https://www.kaggle.com/learn-forum/161289) to chat with other Learners.*"
   ]
  }
 ],
 "metadata": {
  "kernelspec": {
   "display_name": "Python 3",
   "language": "python",
   "name": "python3"
  },
  "language_info": {
   "codemirror_mode": {
    "name": "ipython",
    "version": 3
   },
   "file_extension": ".py",
   "mimetype": "text/x-python",
   "name": "python",
   "nbconvert_exporter": "python",
   "pygments_lexer": "ipython3",
   "version": "3.7.10"
  },
  "papermill": {
   "default_parameters": {},
   "duration": 15.835715,
   "end_time": "2021-08-15T03:14:03.491490",
   "environment_variables": {},
   "exception": null,
   "input_path": "__notebook__.ipynb",
   "output_path": "__notebook__.ipynb",
   "parameters": {},
   "start_time": "2021-08-15T03:13:47.655775",
   "version": "2.3.3"
  }
 },
 "nbformat": 4,
 "nbformat_minor": 5
}
